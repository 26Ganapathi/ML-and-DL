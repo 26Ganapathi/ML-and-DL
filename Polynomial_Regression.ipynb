{
  "nbformat": 4,
  "nbformat_minor": 0,
  "metadata": {
    "colab": {
      "provenance": []
    },
    "kernelspec": {
      "name": "python3",
      "display_name": "Python 3"
    },
    "language_info": {
      "name": "python"
    }
  },
  "cells": [
    {
      "cell_type": "code",
      "execution_count": 2,
      "metadata": {
        "id": "79C4PqRT3jQa"
      },
      "outputs": [],
      "source": [
        "import numpy as np\n",
        "import pandas as pd\n",
        "import matplotlib.pyplot as plt\n",
        "%matplotlib inline\n",
        "\n"
      ]
    },
    {
      "cell_type": "code",
      "source": [
        "X=6*np.random.rand(100,1)-3\n",
        "y=0.5*X**2+X+2+np.random.randn(100,1)\n",
        "plt.scatter(X,y)\n",
        "plt.xlabel(\"X values\")\n",
        "plt.ylabel(\"y values\")\n",
        "plt.show()"
      ],
      "metadata": {
        "colab": {
          "base_uri": "https://localhost:8080/",
          "height": 449
        },
        "id": "7MyEMS2x3uTq",
        "outputId": "629d3712-3dcd-4952-ef60-842be71d6002"
      },
      "execution_count": 3,
      "outputs": [
        {
          "output_type": "display_data",
          "data": {
            "text/plain": [
              "<Figure size 640x480 with 1 Axes>"
            ],
            "image/png": "[encoded data removed]"
          },
          "metadata": {}
        }
      ]
    },
    {
      "cell_type": "code",
      "source": [
        "from sklearn.model_selection import train_test_split\n",
        "X_train,X_test,y_train,y_test=train_test_split(X,y,test_size=0.2,random_state=42)"
      ],
      "metadata": {
        "id": "dSlOmHAZ9B1x"
      },
      "execution_count": 4,
      "outputs": []
    },
    {
      "cell_type": "code",
      "source": [
        "from sklearn.linear_model import LinearRegression\n",
        "regression=LinearRegression()\n",
        "regression.fit(X_train,y_train)"
      ],
      "metadata": {
        "colab": {
          "base_uri": "https://localhost:8080/",
          "height": 74
        },
        "id": "qakPDSsP9rvJ",
        "outputId": "cc52ae49-e261-4cba-957e-3be23aaac372"
      },
      "execution_count": 5,
      "outputs": [
        {
          "output_type": "execute_result",
          "data": {
            "text/plain": [
              "LinearRegression()"
            ],
            "text/html": [
              "<style>#sk-container-id-1 {color: black;}#sk-container-id-1 pre{padding: 0;}#sk-container-id-1 div.sk-toggleable {background-color: white;}#sk-container-id-1 label.sk-toggleable__label {cursor: pointer;display: block;width: 100%;margin-bottom: 0;padding: 0.3em;box-sizing: border-box;text-align: center;}#sk-container-id-1 label.sk-toggleable__label-arrow:before {content: \"▸\";float: left;margin-right: 0.25em;color: #696969;}#sk-container-id-1 label.sk-toggleable__label-arrow:hover:before {color: black;}#sk-container-id-1 div.sk-estimator:hover label.sk-toggleable__label-arrow:before {color: black;}#sk-container-id-1 div.sk-toggleable__content {max-height: 0;max-width: 0;overflow: hidden;text-align: left;background-color: #f0f8ff;}#sk-container-id-1 div.sk-toggleable__content pre {margin: 0.2em;color: black;border-radius: 0.25em;background-color: #f0f8ff;}#sk-container-id-1 input.sk-toggleable__control:checked~div.sk-toggleable__content {max-height: 200px;max-width: 100%;overflow: auto;}#sk-container-id-1 input.sk-toggleable__control:checked~label.sk-toggleable__label-arrow:before {content: \"▾\";}#sk-container-id-1 div.sk-estimator input.sk-toggleable__control:checked~label.sk-toggleable__label {background-color: #d4ebff;}#sk-container-id-1 div.sk-label input.sk-toggleable__control:checked~label.sk-toggleable__label {background-color: #d4ebff;}#sk-container-id-1 input.sk-hidden--visually {border: 0;clip: rect(1px 1px 1px 1px);clip: rect(1px, 1px, 1px, 1px);height: 1px;margin: -1px;overflow: hidden;padding: 0;position: absolute;width: 1px;}#sk-container-id-1 div.sk-estimator {font-family: monospace;background-color: #f0f8ff;border: 1px dotted black;border-radius: 0.25em;box-sizing: border-box;margin-bottom: 0.5em;}#sk-container-id-1 div.sk-estimator:hover {background-color: #d4ebff;}#sk-container-id-1 div.sk-parallel-item::after {content: \"\";width: 100%;border-bottom: 1px solid gray;flex-grow: 1;}#sk-container-id-1 div.sk-label:hover label.sk-toggleable__label {background-color: #d4ebff;}#sk-container-id-1 div.sk-serial::before {content: \"\";position: absolute;border-left: 1px solid gray;box-sizing: border-box;top: 0;bottom: 0;left: 50%;z-index: 0;}#sk-container-id-1 div.sk-serial {display: flex;flex-direction: column;align-items: center;background-color: white;padding-right: 0.2em;padding-left: 0.2em;position: relative;}#sk-container-id-1 div.sk-item {position: relative;z-index: 1;}#sk-container-id-1 div.sk-parallel {display: flex;align-items: stretch;justify-content: center;background-color: white;position: relative;}#sk-container-id-1 div.sk-item::before, #sk-container-id-1 div.sk-parallel-item::before {content: \"\";position: absolute;border-left: 1px solid gray;box-sizing: border-box;top: 0;bottom: 0;left: 50%;z-index: -1;}#sk-container-id-1 div.sk-parallel-item {display: flex;flex-direction: column;z-index: 1;position: relative;background-color: white;}#sk-container-id-1 div.sk-parallel-item:first-child::after {align-self: flex-end;width: 50%;}#sk-container-id-1 div.sk-parallel-item:last-child::after {align-self: flex-start;width: 50%;}#sk-container-id-1 div.sk-parallel-item:only-child::after {width: 0;}#sk-container-id-1 div.sk-dashed-wrapped {border: 1px dashed gray;margin: 0 0.4em 0.5em 0.4em;box-sizing: border-box;padding-bottom: 0.4em;background-color: white;}#sk-container-id-1 div.sk-label label {font-family: monospace;font-weight: bold;display: inline-block;line-height: 1.2em;}#sk-container-id-1 div.sk-label-container {text-align: center;}#sk-container-id-1 div.sk-container {/* jupyter's `normalize.less` sets `[hidden] { display: none; }` but bootstrap.min.css set `[hidden] { display: none !important; }` so we also need the `!important` here to be able to override the default hidden behavior on the sphinx rendered scikit-learn.org. See: https://github.com/scikit-learn/scikit-learn/issues/21755 */display: inline-block !important;position: relative;}#sk-container-id-1 div.sk-text-repr-fallback {display: none;}</style><div id=\"sk-container-id-1\" class=\"sk-top-container\"><div class=\"sk-text-repr-fallback\"><pre>LinearRegression()</pre><b>In a Jupyter environment, please rerun this cell to show the HTML representation or trust the notebook. <br />On GitHub, the HTML representation is unable to render, please try loading this page with nbviewer.org.</b></div><div class=\"sk-container\" hidden><div class=\"sk-item\"><div class=\"sk-estimator sk-toggleable\"><input class=\"sk-toggleable__control sk-hidden--visually\" id=\"sk-estimator-id-1\" type=\"checkbox\" checked><label for=\"sk-estimator-id-1\" class=\"sk-toggleable__label sk-toggleable__label-arrow\">LinearRegression</label><div class=\"sk-toggleable__content\"><pre>LinearRegression()</pre></div></div></div></div></div>"
            ]
          },
          "metadata": {},
          "execution_count": 5
        }
      ]
    },
    {
      "cell_type": "code",
      "source": [
        "from sklearn.metrics import r2_score\n",
        "sscore=r2_score(y_test,regression.predict(X_test))\n",
        "print(sscore)"
      ],
      "metadata": {
        "colab": {
          "base_uri": "https://localhost:8080/"
        },
        "id": "KRnjVZQJ-pgk",
        "outputId": "af581fad-e88b-484b-8ac1-9a37f6ef131e"
      },
      "execution_count": 6,
      "outputs": [
        {
          "output_type": "stream",
          "name": "stdout",
          "text": [
            "0.6517852187558852\n"
          ]
        }
      ]
    },
    {
      "cell_type": "code",
      "source": [
        "plt.scatter(X_train,y_train,color=\"r\")\n",
        "plt.plot(X_train,regression.predict(X_train),color=\"g\")\n",
        "plt.xlabel(\"X values\")\n",
        "plt.ylabel(\"y values\")\n",
        "plt.show()"
      ],
      "metadata": {
        "colab": {
          "base_uri": "https://localhost:8080/",
          "height": 449
        },
        "id": "ngocmgHVBFby",
        "outputId": "97182f2b-2192-4c14-a3fb-754cdbd061b6"
      },
      "execution_count": 7,
      "outputs": [
        {
          "output_type": "display_data",
          "data": {
            "text/plain": [
              "<Figure size 640x480 with 1 Axes>"
            ],
            "image/png": "[encoded data removed]"
          },
          "metadata": {}
        }
      ]
    },
    {
      "cell_type": "code",
      "source": [
        "from sklearn.preprocessing import PolynomialFeatures"
      ],
      "metadata": {
        "id": "mSJBNpshlg9p"
      },
      "execution_count": 8,
      "outputs": []
    },
    {
      "cell_type": "code",
      "source": [
        "poly=PolynomialFeatures(degree=2,include_bias=True)\n",
        "X_train_poly=poly.fit_transform(X_train)\n",
        "X_test_poly=poly.transform(X_test)"
      ],
      "metadata": {
        "id": "cc4Kz_B5UY4w"
      },
      "execution_count": 9,
      "outputs": []
    },
    {
      "cell_type": "code",
      "source": [
        "X_train_poly"
      ],
      "metadata": {
        "colab": {
          "base_uri": "https://localhost:8080/"
        },
        "id": "_4CysCyqU2w3",
        "outputId": "471ad497-1da8-4228-e504-f3ca3cabe1b8"
      },
      "execution_count": 10,
      "outputs": [
        {
          "output_type": "execute_result",
          "data": {
            "text/plain": [
              "array([[ 1.00000000e+00,  1.26311620e+00,  1.59546254e+00],\n",
              "       [ 1.00000000e+00,  1.32061785e+00,  1.74403150e+00],\n",
              "       [ 1.00000000e+00, -2.90685985e+00,  8.44983420e+00],\n",
              "       [ 1.00000000e+00,  1.14892952e-01,  1.32003904e-02],\n",
              "       [ 1.00000000e+00, -2.92982842e+00,  8.58389456e+00],\n",
              "       [ 1.00000000e+00,  5.84219919e-01,  3.41312913e-01],\n",
              "       [ 1.00000000e+00,  2.71748142e+00,  7.38470525e+00],\n",
              "       [ 1.00000000e+00, -3.62427613e-01,  1.31353775e-01],\n",
              "       [ 1.00000000e+00,  5.93272280e-01,  3.51971999e-01],\n",
              "       [ 1.00000000e+00, -1.83684376e+00,  3.37399501e+00],\n",
              "       [ 1.00000000e+00, -1.99392840e+00,  3.97575047e+00],\n",
              "       [ 1.00000000e+00,  1.15916098e+00,  1.34365417e+00],\n",
              "       [ 1.00000000e+00,  3.09762097e-01,  9.59525569e-02],\n",
              "       [ 1.00000000e+00, -2.69140105e+00,  7.24363960e+00],\n",
              "       [ 1.00000000e+00, -8.98443427e-01,  8.07200592e-01],\n",
              "       [ 1.00000000e+00,  1.80193958e+00,  3.24698625e+00],\n",
              "       [ 1.00000000e+00,  3.31413476e-01,  1.09834892e-01],\n",
              "       [ 1.00000000e+00, -2.09491228e+00,  4.38865748e+00],\n",
              "       [ 1.00000000e+00,  7.93257440e-01,  6.29257365e-01],\n",
              "       [ 1.00000000e+00,  6.00187552e-01,  3.60225097e-01],\n",
              "       [ 1.00000000e+00, -6.51530229e-01,  4.24491640e-01],\n",
              "       [ 1.00000000e+00,  2.60784910e-04,  6.80087694e-08],\n",
              "       [ 1.00000000e+00, -2.61311777e+00,  6.82838446e+00],\n",
              "       [ 1.00000000e+00, -1.42129779e+00,  2.02008740e+00],\n",
              "       [ 1.00000000e+00,  2.36119064e+00,  5.57522122e+00],\n",
              "       [ 1.00000000e+00,  2.71938722e+00,  7.39506683e+00],\n",
              "       [ 1.00000000e+00,  4.41562037e-01,  1.94977033e-01],\n",
              "       [ 1.00000000e+00, -1.62997452e+00,  2.65681693e+00],\n",
              "       [ 1.00000000e+00, -3.22827480e-01,  1.04217582e-01],\n",
              "       [ 1.00000000e+00, -2.49573631e+00,  6.22869973e+00],\n",
              "       [ 1.00000000e+00, -2.86577401e+00,  8.21266070e+00],\n",
              "       [ 1.00000000e+00, -9.26435049e-01,  8.58281901e-01],\n",
              "       [ 1.00000000e+00, -2.08677679e-01,  4.35463737e-02],\n",
              "       [ 1.00000000e+00,  1.67691708e+00,  2.81205088e+00],\n",
              "       [ 1.00000000e+00, -2.84156856e+00,  8.07451185e+00],\n",
              "       [ 1.00000000e+00, -1.23091735e+00,  1.51515753e+00],\n",
              "       [ 1.00000000e+00,  5.77408858e-01,  3.33400989e-01],\n",
              "       [ 1.00000000e+00, -2.72825238e+00,  7.44336107e+00],\n",
              "       [ 1.00000000e+00, -1.76213849e+00,  3.10513204e+00],\n",
              "       [ 1.00000000e+00, -2.53758385e+00,  6.43933181e+00],\n",
              "       [ 1.00000000e+00, -1.81199141e+00,  3.28331288e+00],\n",
              "       [ 1.00000000e+00, -2.35555529e+00,  5.54864072e+00],\n",
              "       [ 1.00000000e+00, -2.95013786e+00,  8.70331342e+00],\n",
              "       [ 1.00000000e+00, -1.62358376e+00,  2.63602424e+00],\n",
              "       [ 1.00000000e+00,  2.31097211e+00,  5.34059210e+00],\n",
              "       [ 1.00000000e+00, -2.24553693e+00,  5.04243611e+00],\n",
              "       [ 1.00000000e+00, -2.28282765e+00,  5.21130209e+00],\n",
              "       [ 1.00000000e+00, -1.64166019e+00,  2.69504817e+00],\n",
              "       [ 1.00000000e+00,  1.60141236e+00,  2.56452156e+00],\n",
              "       [ 1.00000000e+00, -1.63793797e+00,  2.68284080e+00],\n",
              "       [ 1.00000000e+00, -2.42624820e+00,  5.88668033e+00],\n",
              "       [ 1.00000000e+00,  2.71873812e+00,  7.39153697e+00],\n",
              "       [ 1.00000000e+00,  2.22930273e+00,  4.96979066e+00],\n",
              "       [ 1.00000000e+00,  6.94640427e-01,  4.82525322e-01],\n",
              "       [ 1.00000000e+00, -9.93621164e-02,  9.87283017e-03],\n",
              "       [ 1.00000000e+00, -1.90114513e+00,  3.61435279e+00],\n",
              "       [ 1.00000000e+00, -2.84815335e+00,  8.11197750e+00],\n",
              "       [ 1.00000000e+00, -2.71237287e+00,  7.35696661e+00],\n",
              "       [ 1.00000000e+00,  1.81195933e+00,  3.28319661e+00],\n",
              "       [ 1.00000000e+00, -4.65146650e-01,  2.16361406e-01],\n",
              "       [ 1.00000000e+00, -2.76798014e+00,  7.66171406e+00],\n",
              "       [ 1.00000000e+00,  7.45979559e-01,  5.56485503e-01],\n",
              "       [ 1.00000000e+00,  1.66494815e+00,  2.77205235e+00],\n",
              "       [ 1.00000000e+00,  8.88672658e-01,  7.89739092e-01],\n",
              "       [ 1.00000000e+00,  2.34739815e+00,  5.51027808e+00],\n",
              "       [ 1.00000000e+00, -2.17211584e+00,  4.71808722e+00],\n",
              "       [ 1.00000000e+00, -2.92902808e+00,  8.57920548e+00],\n",
              "       [ 1.00000000e+00,  2.35425258e+00,  5.54250521e+00],\n",
              "       [ 1.00000000e+00, -2.15376556e+00,  4.63870608e+00],\n",
              "       [ 1.00000000e+00, -6.23604553e-01,  3.88882639e-01],\n",
              "       [ 1.00000000e+00,  7.58320353e-01,  5.75049758e-01],\n",
              "       [ 1.00000000e+00, -9.72474983e-01,  9.45707592e-01],\n",
              "       [ 1.00000000e+00, -9.39946853e-01,  8.83500086e-01],\n",
              "       [ 1.00000000e+00,  2.08273635e+00,  4.33779072e+00],\n",
              "       [ 1.00000000e+00,  7.33346843e-02,  5.37797593e-03],\n",
              "       [ 1.00000000e+00, -1.72850284e+00,  2.98772206e+00],\n",
              "       [ 1.00000000e+00, -2.37189385e-01,  5.62588044e-02],\n",
              "       [ 1.00000000e+00,  2.22381007e+00,  4.94533122e+00],\n",
              "       [ 1.00000000e+00, -1.96035085e+00,  3.84297547e+00],\n",
              "       [ 1.00000000e+00,  2.70587217e+00,  7.32174418e+00]])"
            ]
          },
          "metadata": {},
          "execution_count": 10
        }
      ]
    },
    {
      "cell_type": "code",
      "source": [
        "X_test_poly"
      ],
      "metadata": {
        "colab": {
          "base_uri": "https://localhost:8080/"
        },
        "id": "-DHVI9UOWdhx",
        "outputId": "2c9e64f7-c5cd-4749-dd6e-0667fcb88da8"
      },
      "execution_count": 11,
      "outputs": [
        {
          "output_type": "execute_result",
          "data": {
            "text/plain": [
              "array([[ 1.        , -0.84642891,  0.7164419 ],\n",
              "       [ 1.        ,  2.5876374 ,  6.69586734],\n",
              "       [ 1.        , -2.15342676,  4.63724681],\n",
              "       [ 1.        ,  2.50763404,  6.28822846],\n",
              "       [ 1.        , -1.78423642,  3.18349961],\n",
              "       [ 1.        , -0.91957788,  0.84562348],\n",
              "       [ 1.        ,  1.09621286,  1.20168264],\n",
              "       [ 1.        , -1.23472725,  1.52455139],\n",
              "       [ 1.        ,  1.96644773,  3.86691667],\n",
              "       [ 1.        ,  2.04817542,  4.19502254],\n",
              "       [ 1.        , -1.41059367,  1.98977451],\n",
              "       [ 1.        ,  0.20137215,  0.04055074],\n",
              "       [ 1.        , -1.79037961,  3.20545915],\n",
              "       [ 1.        ,  0.37280901,  0.13898656],\n",
              "       [ 1.        , -1.69406088,  2.86984226],\n",
              "       [ 1.        ,  1.44489895,  2.08773298],\n",
              "       [ 1.        , -2.18530638,  4.77556399],\n",
              "       [ 1.        , -2.17712053,  4.7398538 ],\n",
              "       [ 1.        , -2.39089376,  5.71637295],\n",
              "       [ 1.        ,  2.08877128,  4.36296544]])"
            ]
          },
          "metadata": {},
          "execution_count": 11
        }
      ]
    },
    {
      "cell_type": "code",
      "source": [
        "from sklearn.linear_model import LinearRegression\n",
        "regression=LinearRegression()\n",
        "regression.fit(X_train_poly,y_train)"
      ],
      "metadata": {
        "colab": {
          "base_uri": "https://localhost:8080/",
          "height": 74
        },
        "id": "kr-9KjzUWmWK",
        "outputId": "f926b5ac-8a64-4ea2-ad4b-2b9cc260b216"
      },
      "execution_count": 12,
      "outputs": [
        {
          "output_type": "execute_result",
          "data": {
            "text/plain": [
              "LinearRegression()"
            ],
            "text/html": [
              "<style>#sk-container-id-2 {color: black;}#sk-container-id-2 pre{padding: 0;}#sk-container-id-2 div.sk-toggleable {background-color: white;}#sk-container-id-2 label.sk-toggleable__label {cursor: pointer;display: block;width: 100%;margin-bottom: 0;padding: 0.3em;box-sizing: border-box;text-align: center;}#sk-container-id-2 label.sk-toggleable__label-arrow:before {content: \"▸\";float: left;margin-right: 0.25em;color: #696969;}#sk-container-id-2 label.sk-toggleable__label-arrow:hover:before {color: black;}#sk-container-id-2 div.sk-estimator:hover label.sk-toggleable__label-arrow:before {color: black;}#sk-container-id-2 div.sk-toggleable__content {max-height: 0;max-width: 0;overflow: hidden;text-align: left;background-color: #f0f8ff;}#sk-container-id-2 div.sk-toggleable__content pre {margin: 0.2em;color: black;border-radius: 0.25em;background-color: #f0f8ff;}#sk-container-id-2 input.sk-toggleable__control:checked~div.sk-toggleable__content {max-height: 200px;max-width: 100%;overflow: auto;}#sk-container-id-2 input.sk-toggleable__control:checked~label.sk-toggleable__label-arrow:before {content: \"▾\";}#sk-container-id-2 div.sk-estimator input.sk-toggleable__control:checked~label.sk-toggleable__label {background-color: #d4ebff;}#sk-container-id-2 div.sk-label input.sk-toggleable__control:checked~label.sk-toggleable__label {background-color: #d4ebff;}#sk-container-id-2 input.sk-hidden--visually {border: 0;clip: rect(1px 1px 1px 1px);clip: rect(1px, 1px, 1px, 1px);height: 1px;margin: -1px;overflow: hidden;padding: 0;position: absolute;width: 1px;}#sk-container-id-2 div.sk-estimator {font-family: monospace;background-color: #f0f8ff;border: 1px dotted black;border-radius: 0.25em;box-sizing: border-box;margin-bottom: 0.5em;}#sk-container-id-2 div.sk-estimator:hover {background-color: #d4ebff;}#sk-container-id-2 div.sk-parallel-item::after {content: \"\";width: 100%;border-bottom: 1px solid gray;flex-grow: 1;}#sk-container-id-2 div.sk-label:hover label.sk-toggleable__label {background-color: #d4ebff;}#sk-container-id-2 div.sk-serial::before {content: \"\";position: absolute;border-left: 1px solid gray;box-sizing: border-box;top: 0;bottom: 0;left: 50%;z-index: 0;}#sk-container-id-2 div.sk-serial {display: flex;flex-direction: column;align-items: center;background-color: white;padding-right: 0.2em;padding-left: 0.2em;position: relative;}#sk-container-id-2 div.sk-item {position: relative;z-index: 1;}#sk-container-id-2 div.sk-parallel {display: flex;align-items: stretch;justify-content: center;background-color: white;position: relative;}#sk-container-id-2 div.sk-item::before, #sk-container-id-2 div.sk-parallel-item::before {content: \"\";position: absolute;border-left: 1px solid gray;box-sizing: border-box;top: 0;bottom: 0;left: 50%;z-index: -1;}#sk-container-id-2 div.sk-parallel-item {display: flex;flex-direction: column;z-index: 1;position: relative;background-color: white;}#sk-container-id-2 div.sk-parallel-item:first-child::after {align-self: flex-end;width: 50%;}#sk-container-id-2 div.sk-parallel-item:last-child::after {align-self: flex-start;width: 50%;}#sk-container-id-2 div.sk-parallel-item:only-child::after {width: 0;}#sk-container-id-2 div.sk-dashed-wrapped {border: 1px dashed gray;margin: 0 0.4em 0.5em 0.4em;box-sizing: border-box;padding-bottom: 0.4em;background-color: white;}#sk-container-id-2 div.sk-label label {font-family: monospace;font-weight: bold;display: inline-block;line-height: 1.2em;}#sk-container-id-2 div.sk-label-container {text-align: center;}#sk-container-id-2 div.sk-container {/* jupyter's `normalize.less` sets `[hidden] { display: none; }` but bootstrap.min.css set `[hidden] { display: none !important; }` so we also need the `!important` here to be able to override the default hidden behavior on the sphinx rendered scikit-learn.org. See: https://github.com/scikit-learn/scikit-learn/issues/21755 */display: inline-block !important;position: relative;}#sk-container-id-2 div.sk-text-repr-fallback {display: none;}</style><div id=\"sk-container-id-2\" class=\"sk-top-container\"><div class=\"sk-text-repr-fallback\"><pre>LinearRegression()</pre><b>In a Jupyter environment, please rerun this cell to show the HTML representation or trust the notebook. <br />On GitHub, the HTML representation is unable to render, please try loading this page with nbviewer.org.</b></div><div class=\"sk-container\" hidden><div class=\"sk-item\"><div class=\"sk-estimator sk-toggleable\"><input class=\"sk-toggleable__control sk-hidden--visually\" id=\"sk-estimator-id-2\" type=\"checkbox\" checked><label for=\"sk-estimator-id-2\" class=\"sk-toggleable__label sk-toggleable__label-arrow\">LinearRegression</label><div class=\"sk-toggleable__content\"><pre>LinearRegression()</pre></div></div></div></div></div>"
            ]
          },
          "metadata": {},
          "execution_count": 12
        }
      ]
    },
    {
      "cell_type": "code",
      "source": [
        "from sklearn.metrics import r2_score\n",
        "sscore=r2_score(y_test,regression.predict(X_test_poly))\n",
        "print(sscore)"
      ],
      "metadata": {
        "colab": {
          "base_uri": "https://localhost:8080/"
        },
        "id": "REzdXS9YXDrJ",
        "outputId": "e0a5b9cd-da22-4d34-e672-827f79308732"
      },
      "execution_count": 13,
      "outputs": [
        {
          "output_type": "stream",
          "name": "stdout",
          "text": [
            "0.8788478699891816\n"
          ]
        }
      ]
    },
    {
      "cell_type": "code",
      "source": [
        "plt.scatter(X_train,y_train,color=\"r\")\n",
        "plt.scatter(X_train,regression.predict(X_train_poly),color=\"g\")\n",
        "plt.xlabel(\"X values\")\n",
        "plt.ylabel(\"y values\")\n",
        "plt.show()"
      ],
      "metadata": {
        "colab": {
          "base_uri": "https://localhost:8080/",
          "height": 449
        },
        "id": "a5OfkvSnYdUQ",
        "outputId": "8db7ee1d-754f-49a8-888a-b77c8862a278"
      },
      "execution_count": 14,
      "outputs": [
        {
          "output_type": "display_data",
          "data": {
            "text/plain": [
              "<Figure size 640x480 with 1 Axes>"
            ],
            "image/png": "[encoded data removed]"
          },
          "metadata": {}
        }
      ]
    },
    {
      "cell_type": "code",
      "source": [
        "poly=PolynomialFeatures(degree=3,include_bias=True)\n",
        "X_train_poly=poly.fit_transform(X_train)\n",
        "X_test_poly=poly.transform(X_test)"
      ],
      "metadata": {
        "id": "lLcBHDUPXUh8"
      },
      "execution_count": 15,
      "outputs": []
    },
    {
      "cell_type": "code",
      "source": [
        "X_train_poly"
      ],
      "metadata": {
        "colab": {
          "base_uri": "https://localhost:8080/"
        },
        "id": "P6Da9lHdYBFp",
        "outputId": "746aaa11-62cb-40be-a06a-d8d081bb6dbc"
      },
      "execution_count": 16,
      "outputs": [
        {
          "output_type": "execute_result",
          "data": {
            "text/plain": [
              "array([[ 1.00000000e+00,  1.26311620e+00,  1.59546254e+00,\n",
              "         2.01525458e+00],\n",
              "       [ 1.00000000e+00,  1.32061785e+00,  1.74403150e+00,\n",
              "         2.30319913e+00],\n",
              "       [ 1.00000000e+00, -2.90685985e+00,  8.44983420e+00,\n",
              "        -2.45624838e+01],\n",
              "       [ 1.00000000e+00,  1.14892952e-01,  1.32003904e-02,\n",
              "         1.51663181e-03],\n",
              "       [ 1.00000000e+00, -2.92982842e+00,  8.58389456e+00,\n",
              "        -2.51493382e+01],\n",
              "       [ 1.00000000e+00,  5.84219919e-01,  3.41312913e-01,\n",
              "         1.99401802e-01],\n",
              "       [ 1.00000000e+00,  2.71748142e+00,  7.38470525e+00,\n",
              "         2.00677993e+01],\n",
              "       [ 1.00000000e+00, -3.62427613e-01,  1.31353775e-01,\n",
              "        -4.76062350e-02],\n",
              "       [ 1.00000000e+00,  5.93272280e-01,  3.51971999e-01,\n",
              "         2.08815230e-01],\n",
              "       [ 1.00000000e+00, -1.83684376e+00,  3.37399501e+00,\n",
              "        -6.19750169e+00],\n",
              "       [ 1.00000000e+00, -1.99392840e+00,  3.97575047e+00,\n",
              "        -7.92736177e+00],\n",
              "       [ 1.00000000e+00,  1.15916098e+00,  1.34365417e+00,\n",
              "         1.55751148e+00],\n",
              "       [ 1.00000000e+00,  3.09762097e-01,  9.59525569e-02,\n",
              "         2.97224652e-02],\n",
              "       [ 1.00000000e+00, -2.69140105e+00,  7.24363960e+00,\n",
              "        -1.94955392e+01],\n",
              "       [ 1.00000000e+00, -8.98443427e-01,  8.07200592e-01,\n",
              "        -7.25224067e-01],\n",
              "       [ 1.00000000e+00,  1.80193958e+00,  3.24698625e+00,\n",
              "         5.85087305e+00],\n",
              "       [ 1.00000000e+00,  3.31413476e-01,  1.09834892e-01,\n",
              "         3.64007635e-02],\n",
              "       [ 1.00000000e+00, -2.09491228e+00,  4.38865748e+00,\n",
              "        -9.19385246e+00],\n",
              "       [ 1.00000000e+00,  7.93257440e-01,  6.29257365e-01,\n",
              "         4.99163086e-01],\n",
              "       [ 1.00000000e+00,  6.00187552e-01,  3.60225097e-01,\n",
              "         2.16202619e-01],\n",
              "       [ 1.00000000e+00, -6.51530229e-01,  4.24491640e-01,\n",
              "        -2.76569135e-01],\n",
              "       [ 1.00000000e+00,  2.60784910e-04,  6.80087694e-08,\n",
              "         1.77356608e-11],\n",
              "       [ 1.00000000e+00, -2.61311777e+00,  6.82838446e+00,\n",
              "        -1.78433727e+01],\n",
              "       [ 1.00000000e+00, -1.42129779e+00,  2.02008740e+00,\n",
              "        -2.87114574e+00],\n",
              "       [ 1.00000000e+00,  2.36119064e+00,  5.57522122e+00,\n",
              "         1.31641601e+01],\n",
              "       [ 1.00000000e+00,  2.71938722e+00,  7.39506683e+00,\n",
              "         2.01100502e+01],\n",
              "       [ 1.00000000e+00,  4.41562037e-01,  1.94977033e-01,\n",
              "         8.60944557e-02],\n",
              "       [ 1.00000000e+00, -1.62997452e+00,  2.65681693e+00,\n",
              "        -4.33054390e+00],\n",
              "       [ 1.00000000e+00, -3.22827480e-01,  1.04217582e-01,\n",
              "        -3.36442992e-02],\n",
              "       [ 1.00000000e+00, -2.49573631e+00,  6.22869973e+00,\n",
              "        -1.55451921e+01],\n",
              "       [ 1.00000000e+00, -2.86577401e+00,  8.21266070e+00,\n",
              "        -2.35356296e+01],\n",
              "       [ 1.00000000e+00, -9.26435049e-01,  8.58281901e-01,\n",
              "        -7.95142435e-01],\n",
              "       [ 1.00000000e+00, -2.08677679e-01,  4.35463737e-02,\n",
              "        -9.08715620e-03],\n",
              "       [ 1.00000000e+00,  1.67691708e+00,  2.81205088e+00,\n",
              "         4.71557614e+00],\n",
              "       [ 1.00000000e+00, -2.84156856e+00,  8.07451185e+00,\n",
              "        -2.29442790e+01],\n",
              "       [ 1.00000000e+00, -1.23091735e+00,  1.51515753e+00,\n",
              "        -1.86503370e+00],\n",
              "       [ 1.00000000e+00,  5.77408858e-01,  3.33400989e-01,\n",
              "         1.92508684e-01],\n",
              "       [ 1.00000000e+00, -2.72825238e+00,  7.44336107e+00,\n",
              "        -2.03073676e+01],\n",
              "       [ 1.00000000e+00, -1.76213849e+00,  3.10513204e+00,\n",
              "        -5.47167268e+00],\n",
              "       [ 1.00000000e+00, -2.53758385e+00,  6.43933181e+00,\n",
              "        -1.63403444e+01],\n",
              "       [ 1.00000000e+00, -1.81199141e+00,  3.28331288e+00,\n",
              "        -5.94933475e+00],\n",
              "       [ 1.00000000e+00, -2.35555529e+00,  5.54864072e+00,\n",
              "        -1.30701300e+01],\n",
              "       [ 1.00000000e+00, -2.95013786e+00,  8.70331342e+00,\n",
              "        -2.56759745e+01],\n",
              "       [ 1.00000000e+00, -1.62358376e+00,  2.63602424e+00,\n",
              "        -4.27980615e+00],\n",
              "       [ 1.00000000e+00,  2.31097211e+00,  5.34059210e+00,\n",
              "         1.23419594e+01],\n",
              "       [ 1.00000000e+00, -2.24553693e+00,  5.04243611e+00,\n",
              "        -1.13229765e+01],\n",
              "       [ 1.00000000e+00, -2.28282765e+00,  5.21130209e+00,\n",
              "        -1.18965045e+01],\n",
              "       [ 1.00000000e+00, -1.64166019e+00,  2.69504817e+00,\n",
              "        -4.42435328e+00],\n",
              "       [ 1.00000000e+00,  1.60141236e+00,  2.56452156e+00,\n",
              "         4.10685654e+00],\n",
              "       [ 1.00000000e+00, -1.63793797e+00,  2.68284080e+00,\n",
              "        -4.39432683e+00],\n",
              "       [ 1.00000000e+00, -2.42624820e+00,  5.88668033e+00,\n",
              "        -1.42825476e+01],\n",
              "       [ 1.00000000e+00,  2.71873812e+00,  7.39153697e+00,\n",
              "         2.00956533e+01],\n",
              "       [ 1.00000000e+00,  2.22930273e+00,  4.96979066e+00,\n",
              "         1.10791679e+01],\n",
              "       [ 1.00000000e+00,  6.94640427e-01,  4.82525322e-01,\n",
              "         3.35181596e-01],\n",
              "       [ 1.00000000e+00, -9.93621164e-02,  9.87283017e-03,\n",
              "        -9.80985300e-04],\n",
              "       [ 1.00000000e+00, -1.90114513e+00,  3.61435279e+00,\n",
              "        -6.87140920e+00],\n",
              "       [ 1.00000000e+00, -2.84815335e+00,  8.11197750e+00,\n",
              "        -2.31041559e+01],\n",
              "       [ 1.00000000e+00, -2.71237287e+00,  7.35696661e+00,\n",
              "        -1.99548367e+01],\n",
              "       [ 1.00000000e+00,  1.81195933e+00,  3.28319661e+00,\n",
              "         5.94901872e+00],\n",
              "       [ 1.00000000e+00, -4.65146650e-01,  2.16361406e-01,\n",
              "        -1.00639783e-01],\n",
              "       [ 1.00000000e+00, -2.76798014e+00,  7.66171406e+00,\n",
              "        -2.12074724e+01],\n",
              "       [ 1.00000000e+00,  7.45979559e-01,  5.56485503e-01,\n",
              "         4.15126810e-01],\n",
              "       [ 1.00000000e+00,  1.66494815e+00,  2.77205235e+00,\n",
              "         4.61532343e+00],\n",
              "       [ 1.00000000e+00,  8.88672658e-01,  7.89739092e-01,\n",
              "         7.01819538e-01],\n",
              "       [ 1.00000000e+00,  2.34739815e+00,  5.51027808e+00,\n",
              "         1.29348166e+01],\n",
              "       [ 1.00000000e+00, -2.17211584e+00,  4.71808722e+00,\n",
              "        -1.02482320e+01],\n",
              "       [ 1.00000000e+00, -2.92902808e+00,  8.57920548e+00,\n",
              "        -2.51287337e+01],\n",
              "       [ 1.00000000e+00,  2.35425258e+00,  5.54250521e+00,\n",
              "         1.30484572e+01],\n",
              "       [ 1.00000000e+00, -2.15376556e+00,  4.63870608e+00,\n",
              "        -9.99068538e+00],\n",
              "       [ 1.00000000e+00, -6.23604553e-01,  3.88882639e-01,\n",
              "        -2.42508984e-01],\n",
              "       [ 1.00000000e+00,  7.58320353e-01,  5.75049758e-01,\n",
              "         4.36071936e-01],\n",
              "       [ 1.00000000e+00, -9.72474983e-01,  9.45707592e-01,\n",
              "        -9.19676974e-01],\n",
              "       [ 1.00000000e+00, -9.39946853e-01,  8.83500086e-01,\n",
              "        -8.30443126e-01],\n",
              "       [ 1.00000000e+00,  2.08273635e+00,  4.33779072e+00,\n",
              "         9.03447444e+00],\n",
              "       [ 1.00000000e+00,  7.33346843e-02,  5.37797593e-03,\n",
              "         3.94392167e-04],\n",
              "       [ 1.00000000e+00, -1.72850284e+00,  2.98772206e+00,\n",
              "        -5.16428607e+00],\n",
              "       [ 1.00000000e+00, -2.37189385e-01,  5.62588044e-02,\n",
              "        -1.33439912e-02],\n",
              "       [ 1.00000000e+00,  2.22381007e+00,  4.94533122e+00,\n",
              "         1.09974773e+01],\n",
              "       [ 1.00000000e+00, -1.96035085e+00,  3.84297547e+00,\n",
              "        -7.53358024e+00],\n",
              "       [ 1.00000000e+00,  2.70587217e+00,  7.32174418e+00,\n",
              "         1.98117038e+01]])"
            ]
          },
          "metadata": {},
          "execution_count": 16
        }
      ]
    },
    {
      "cell_type": "code",
      "source": [
        "X_test_poly"
      ],
      "metadata": {
        "colab": {
          "base_uri": "https://localhost:8080/"
        },
        "id": "eJuTMuAIYDva",
        "outputId": "ff2acbff-6c7c-4d72-8c52-878a9fb03a88"
      },
      "execution_count": 17,
      "outputs": [
        {
          "output_type": "execute_result",
          "data": {
            "text/plain": [
              "array([[ 1.00000000e+00, -8.46428911e-01,  7.16441902e-01,\n",
              "        -6.06417139e-01],\n",
              "       [ 1.00000000e+00,  2.58763740e+00,  6.69586734e+00,\n",
              "         1.73264768e+01],\n",
              "       [ 1.00000000e+00, -2.15342676e+00,  4.63724681e+00,\n",
              "        -9.98597139e+00],\n",
              "       [ 1.00000000e+00,  2.50763404e+00,  6.28822846e+00,\n",
              "         1.57685757e+01],\n",
              "       [ 1.00000000e+00, -1.78423642e+00,  3.18349961e+00,\n",
              "        -5.68011595e+00],\n",
              "       [ 1.00000000e+00, -9.19577882e-01,  8.45623481e-01,\n",
              "        -7.77616649e-01],\n",
              "       [ 1.00000000e+00,  1.09621286e+00,  1.20168264e+00,\n",
              "         1.31729996e+00],\n",
              "       [ 1.00000000e+00, -1.23472725e+00,  1.52455139e+00,\n",
              "        -1.88240515e+00],\n",
              "       [ 1.00000000e+00,  1.96644773e+00,  3.86691667e+00,\n",
              "         7.60408950e+00],\n",
              "       [ 1.00000000e+00,  2.04817542e+00,  4.19502254e+00,\n",
              "         8.59214205e+00],\n",
              "       [ 1.00000000e+00, -1.41059367e+00,  1.98977451e+00,\n",
              "        -2.80676333e+00],\n",
              "       [ 1.00000000e+00,  2.01372155e-01,  4.05507447e-02,\n",
              "         8.16579085e-03],\n",
              "       [ 1.00000000e+00, -1.79037961e+00,  3.20545915e+00,\n",
              "        -5.73898872e+00],\n",
              "       [ 1.00000000e+00,  3.72809013e-01,  1.38986560e-01,\n",
              "         5.18154422e-02],\n",
              "       [ 1.00000000e+00, -1.69406088e+00,  2.86984226e+00,\n",
              "        -4.86168749e+00],\n",
              "       [ 1.00000000e+00,  1.44489895e+00,  2.08773298e+00,\n",
              "         3.01656320e+00],\n",
              "       [ 1.00000000e+00, -2.18530638e+00,  4.77556399e+00,\n",
              "        -1.04360705e+01],\n",
              "       [ 1.00000000e+00, -2.17712053e+00,  4.73985380e+00,\n",
              "        -1.03192330e+01],\n",
              "       [ 1.00000000e+00, -2.39089376e+00,  5.71637295e+00,\n",
              "        -1.36672404e+01],\n",
              "       [ 1.00000000e+00,  2.08877128e+00,  4.36296544e+00,\n",
              "         9.11323689e+00]])"
            ]
          },
          "metadata": {},
          "execution_count": 17
        }
      ]
    },
    {
      "cell_type": "code",
      "source": [
        "from sklearn.linear_model import LinearRegression\n",
        "regression=LinearRegression()\n",
        "regression.fit(X_train_poly,y_train)"
      ],
      "metadata": {
        "colab": {
          "base_uri": "https://localhost:8080/",
          "height": 74
        },
        "id": "T_37kJApYFgu",
        "outputId": "8ae6b845-4e3f-4a71-e8ea-90ca849df4ce"
      },
      "execution_count": 18,
      "outputs": [
        {
          "output_type": "execute_result",
          "data": {
            "text/plain": [
              "LinearRegression()"
            ],
            "text/html": [
              "<style>#sk-container-id-3 {color: black;}#sk-container-id-3 pre{padding: 0;}#sk-container-id-3 div.sk-toggleable {background-color: white;}#sk-container-id-3 label.sk-toggleable__label {cursor: pointer;display: block;width: 100%;margin-bottom: 0;padding: 0.3em;box-sizing: border-box;text-align: center;}#sk-container-id-3 label.sk-toggleable__label-arrow:before {content: \"▸\";float: left;margin-right: 0.25em;color: #696969;}#sk-container-id-3 label.sk-toggleable__label-arrow:hover:before {color: black;}#sk-container-id-3 div.sk-estimator:hover label.sk-toggleable__label-arrow:before {color: black;}#sk-container-id-3 div.sk-toggleable__content {max-height: 0;max-width: 0;overflow: hidden;text-align: left;background-color: #f0f8ff;}#sk-container-id-3 div.sk-toggleable__content pre {margin: 0.2em;color: black;border-radius: 0.25em;background-color: #f0f8ff;}#sk-container-id-3 input.sk-toggleable__control:checked~div.sk-toggleable__content {max-height: 200px;max-width: 100%;overflow: auto;}#sk-container-id-3 input.sk-toggleable__control:checked~label.sk-toggleable__label-arrow:before {content: \"▾\";}#sk-container-id-3 div.sk-estimator input.sk-toggleable__control:checked~label.sk-toggleable__label {background-color: #d4ebff;}#sk-container-id-3 div.sk-label input.sk-toggleable__control:checked~label.sk-toggleable__label {background-color: #d4ebff;}#sk-container-id-3 input.sk-hidden--visually {border: 0;clip: rect(1px 1px 1px 1px);clip: rect(1px, 1px, 1px, 1px);height: 1px;margin: -1px;overflow: hidden;padding: 0;position: absolute;width: 1px;}#sk-container-id-3 div.sk-estimator {font-family: monospace;background-color: #f0f8ff;border: 1px dotted black;border-radius: 0.25em;box-sizing: border-box;margin-bottom: 0.5em;}#sk-container-id-3 div.sk-estimator:hover {background-color: #d4ebff;}#sk-container-id-3 div.sk-parallel-item::after {content: \"\";width: 100%;border-bottom: 1px solid gray;flex-grow: 1;}#sk-container-id-3 div.sk-label:hover label.sk-toggleable__label {background-color: #d4ebff;}#sk-container-id-3 div.sk-serial::before {content: \"\";position: absolute;border-left: 1px solid gray;box-sizing: border-box;top: 0;bottom: 0;left: 50%;z-index: 0;}#sk-container-id-3 div.sk-serial {display: flex;flex-direction: column;align-items: center;background-color: white;padding-right: 0.2em;padding-left: 0.2em;position: relative;}#sk-container-id-3 div.sk-item {position: relative;z-index: 1;}#sk-container-id-3 div.sk-parallel {display: flex;align-items: stretch;justify-content: center;background-color: white;position: relative;}#sk-container-id-3 div.sk-item::before, #sk-container-id-3 div.sk-parallel-item::before {content: \"\";position: absolute;border-left: 1px solid gray;box-sizing: border-box;top: 0;bottom: 0;left: 50%;z-index: -1;}#sk-container-id-3 div.sk-parallel-item {display: flex;flex-direction: column;z-index: 1;position: relative;background-color: white;}#sk-container-id-3 div.sk-parallel-item:first-child::after {align-self: flex-end;width: 50%;}#sk-container-id-3 div.sk-parallel-item:last-child::after {align-self: flex-start;width: 50%;}#sk-container-id-3 div.sk-parallel-item:only-child::after {width: 0;}#sk-container-id-3 div.sk-dashed-wrapped {border: 1px dashed gray;margin: 0 0.4em 0.5em 0.4em;box-sizing: border-box;padding-bottom: 0.4em;background-color: white;}#sk-container-id-3 div.sk-label label {font-family: monospace;font-weight: bold;display: inline-block;line-height: 1.2em;}#sk-container-id-3 div.sk-label-container {text-align: center;}#sk-container-id-3 div.sk-container {/* jupyter's `normalize.less` sets `[hidden] { display: none; }` but bootstrap.min.css set `[hidden] { display: none !important; }` so we also need the `!important` here to be able to override the default hidden behavior on the sphinx rendered scikit-learn.org. See: https://github.com/scikit-learn/scikit-learn/issues/21755 */display: inline-block !important;position: relative;}#sk-container-id-3 div.sk-text-repr-fallback {display: none;}</style><div id=\"sk-container-id-3\" class=\"sk-top-container\"><div class=\"sk-text-repr-fallback\"><pre>LinearRegression()</pre><b>In a Jupyter environment, please rerun this cell to show the HTML representation or trust the notebook. <br />On GitHub, the HTML representation is unable to render, please try loading this page with nbviewer.org.</b></div><div class=\"sk-container\" hidden><div class=\"sk-item\"><div class=\"sk-estimator sk-toggleable\"><input class=\"sk-toggleable__control sk-hidden--visually\" id=\"sk-estimator-id-3\" type=\"checkbox\" checked><label for=\"sk-estimator-id-3\" class=\"sk-toggleable__label sk-toggleable__label-arrow\">LinearRegression</label><div class=\"sk-toggleable__content\"><pre>LinearRegression()</pre></div></div></div></div></div>"
            ]
          },
          "metadata": {},
          "execution_count": 18
        }
      ]
    },
    {
      "cell_type": "code",
      "source": [
        "from sklearn.metrics import r2_score\n",
        "sscore=r2_score(y_test,regression.predict(X_test_poly))\n",
        "print(sscore)"
      ],
      "metadata": {
        "colab": {
          "base_uri": "https://localhost:8080/"
        },
        "id": "NxyXbk6VYQU0",
        "outputId": "27db9fe8-d98b-4552-ccda-6a64aa29b336"
      },
      "execution_count": 19,
      "outputs": [
        {
          "output_type": "stream",
          "name": "stdout",
          "text": [
            "0.8679331862928269\n"
          ]
        }
      ]
    },
    {
      "cell_type": "code",
      "source": [
        "plt.scatter(X_train,y_train,color=\"r\")\n",
        "plt.scatter(X_train,regression.predict(X_train_poly),color=\"g\")\n",
        "plt.xlabel(\"X values\")\n",
        "plt.ylabel(\"y values\")\n",
        "plt.show()"
      ],
      "metadata": {
        "colab": {
          "base_uri": "https://localhost:8080/",
          "height": 449
        },
        "id": "TibyzRzDZYum",
        "outputId": "56049ac4-f743-418c-ce4b-d7a3ce991ebe"
      },
      "execution_count": 20,
      "outputs": [
        {
          "output_type": "display_data",
          "data": {
            "text/plain": [
              "<Figure size 640x480 with 1 Axes>"
            ],
            "image/png": "[encoded data removed]"
          },
          "metadata": {}
        }
      ]
    },
    {
      "cell_type": "code",
      "source": [
        "X_new=np.linspace(-3,3,100).reshape(100,1)\n",
        "X_new_poly=poly.transform(X_new)"
      ],
      "metadata": {
        "id": "oy7sqZApZd6N"
      },
      "execution_count": 21,
      "outputs": []
    },
    {
      "cell_type": "code",
      "source": [
        "X_new_poly"
      ],
      "metadata": {
        "colab": {
          "base_uri": "https://localhost:8080/"
        },
        "id": "l3s09XQ-aMsN",
        "outputId": "d7aea2c3-f8ab-44ce-c719-388afbd12019"
      },
      "execution_count": 22,
      "outputs": [
        {
          "output_type": "execute_result",
          "data": {
            "text/plain": [
              "array([[ 1.00000000e+00, -3.00000000e+00,  9.00000000e+00,\n",
              "        -2.70000000e+01],\n",
              "       [ 1.00000000e+00, -2.93939394e+00,  8.64003673e+00,\n",
              "        -2.53964716e+01],\n",
              "       [ 1.00000000e+00, -2.87878788e+00,  8.28741965e+00,\n",
              "        -2.38577232e+01],\n",
              "       [ 1.00000000e+00, -2.81818182e+00,  7.94214876e+00,\n",
              "        -2.23824192e+01],\n",
              "       [ 1.00000000e+00, -2.75757576e+00,  7.60422406e+00,\n",
              "        -2.09692239e+01],\n",
              "       [ 1.00000000e+00, -2.69696970e+00,  7.27364555e+00,\n",
              "        -1.96168016e+01],\n",
              "       [ 1.00000000e+00, -2.63636364e+00,  6.95041322e+00,\n",
              "        -1.83238167e+01],\n",
              "       [ 1.00000000e+00, -2.57575758e+00,  6.63452709e+00,\n",
              "        -1.70889334e+01],\n",
              "       [ 1.00000000e+00, -2.51515152e+00,  6.32598714e+00,\n",
              "        -1.59108162e+01],\n",
              "       [ 1.00000000e+00, -2.45454545e+00,  6.02479339e+00,\n",
              "        -1.47881292e+01],\n",
              "       [ 1.00000000e+00, -2.39393939e+00,  5.73094582e+00,\n",
              "        -1.37195370e+01],\n",
              "       [ 1.00000000e+00, -2.33333333e+00,  5.44444444e+00,\n",
              "        -1.27037037e+01],\n",
              "       [ 1.00000000e+00, -2.27272727e+00,  5.16528926e+00,\n",
              "        -1.17392938e+01],\n",
              "       [ 1.00000000e+00, -2.21212121e+00,  4.89348026e+00,\n",
              "        -1.08249715e+01],\n",
              "       [ 1.00000000e+00, -2.15151515e+00,  4.62901745e+00,\n",
              "        -9.95940117e+00],\n",
              "       [ 1.00000000e+00, -2.09090909e+00,  4.37190083e+00,\n",
              "        -9.14124718e+00],\n",
              "       [ 1.00000000e+00, -2.03030303e+00,  4.12213039e+00,\n",
              "        -8.36917383e+00],\n",
              "       [ 1.00000000e+00, -1.96969697e+00,  3.87970615e+00,\n",
              "        -7.64184545e+00],\n",
              "       [ 1.00000000e+00, -1.90909091e+00,  3.64462810e+00,\n",
              "        -6.95792637e+00],\n",
              "       [ 1.00000000e+00, -1.84848485e+00,  3.41689624e+00,\n",
              "        -6.31608092e+00],\n",
              "       [ 1.00000000e+00, -1.78787879e+00,  3.19651056e+00,\n",
              "        -5.71497343e+00],\n",
              "       [ 1.00000000e+00, -1.72727273e+00,  2.98347107e+00,\n",
              "        -5.15326822e+00],\n",
              "       [ 1.00000000e+00, -1.66666667e+00,  2.77777778e+00,\n",
              "        -4.62962963e+00],\n",
              "       [ 1.00000000e+00, -1.60606061e+00,  2.57943067e+00,\n",
              "        -4.14272199e+00],\n",
              "       [ 1.00000000e+00, -1.54545455e+00,  2.38842975e+00,\n",
              "        -3.69120962e+00],\n",
              "       [ 1.00000000e+00, -1.48484848e+00,  2.20477502e+00,\n",
              "        -3.27375685e+00],\n",
              "       [ 1.00000000e+00, -1.42424242e+00,  2.02846648e+00,\n",
              "        -2.88902802e+00],\n",
              "       [ 1.00000000e+00, -1.36363636e+00,  1.85950413e+00,\n",
              "        -2.53568745e+00],\n",
              "       [ 1.00000000e+00, -1.30303030e+00,  1.69788797e+00,\n",
              "        -2.21239948e+00],\n",
              "       [ 1.00000000e+00, -1.24242424e+00,  1.54361800e+00,\n",
              "        -1.91782842e+00],\n",
              "       [ 1.00000000e+00, -1.18181818e+00,  1.39669421e+00,\n",
              "        -1.65063862e+00],\n",
              "       [ 1.00000000e+00, -1.12121212e+00,  1.25711662e+00,\n",
              "        -1.40949439e+00],\n",
              "       [ 1.00000000e+00, -1.06060606e+00,  1.12488522e+00,\n",
              "        -1.19306008e+00],\n",
              "       [ 1.00000000e+00, -1.00000000e+00,  1.00000000e+00,\n",
              "        -1.00000000e+00],\n",
              "       [ 1.00000000e+00, -9.39393939e-01,  8.82460973e-01,\n",
              "        -8.28978490e-01],\n",
              "       [ 1.00000000e+00, -8.78787879e-01,  7.72268136e-01,\n",
              "        -6.78659877e-01],\n",
              "       [ 1.00000000e+00, -8.18181818e-01,  6.69421488e-01,\n",
              "        -5.47708490e-01],\n",
              "       [ 1.00000000e+00, -7.57575758e-01,  5.73921028e-01,\n",
              "        -4.34788658e-01],\n",
              "       [ 1.00000000e+00, -6.96969697e-01,  4.85766758e-01,\n",
              "        -3.38564710e-01],\n",
              "       [ 1.00000000e+00, -6.36363636e-01,  4.04958678e-01,\n",
              "        -2.57700977e-01],\n",
              "       [ 1.00000000e+00, -5.75757576e-01,  3.31496786e-01,\n",
              "        -1.90861786e-01],\n",
              "       [ 1.00000000e+00, -5.15151515e-01,  2.65381084e-01,\n",
              "        -1.36711467e-01],\n",
              "       [ 1.00000000e+00, -4.54545455e-01,  2.06611570e-01,\n",
              "        -9.39143501e-02],\n",
              "       [ 1.00000000e+00, -3.93939394e-01,  1.55188246e-01,\n",
              "        -6.11347636e-02],\n",
              "       [ 1.00000000e+00, -3.33333333e-01,  1.11111111e-01,\n",
              "        -3.70370370e-02],\n",
              "       [ 1.00000000e+00, -2.72727273e-01,  7.43801653e-02,\n",
              "        -2.02854996e-02],\n",
              "       [ 1.00000000e+00, -2.12121212e-01,  4.49954086e-02,\n",
              "        -9.54448062e-03],\n",
              "       [ 1.00000000e+00, -1.51515152e-01,  2.29568411e-02,\n",
              "        -3.47830926e-03],\n",
              "       [ 1.00000000e+00, -9.09090909e-02,  8.26446281e-03,\n",
              "        -7.51314801e-04],\n",
              "       [ 1.00000000e+00, -3.03030303e-02,  9.18273646e-04,\n",
              "        -2.78264741e-05],\n",
              "       [ 1.00000000e+00,  3.03030303e-02,  9.18273646e-04,\n",
              "         2.78264741e-05],\n",
              "       [ 1.00000000e+00,  9.09090909e-02,  8.26446281e-03,\n",
              "         7.51314801e-04],\n",
              "       [ 1.00000000e+00,  1.51515152e-01,  2.29568411e-02,\n",
              "         3.47830926e-03],\n",
              "       [ 1.00000000e+00,  2.12121212e-01,  4.49954086e-02,\n",
              "         9.54448062e-03],\n",
              "       [ 1.00000000e+00,  2.72727273e-01,  7.43801653e-02,\n",
              "         2.02854996e-02],\n",
              "       [ 1.00000000e+00,  3.33333333e-01,  1.11111111e-01,\n",
              "         3.70370370e-02],\n",
              "       [ 1.00000000e+00,  3.93939394e-01,  1.55188246e-01,\n",
              "         6.11347636e-02],\n",
              "       [ 1.00000000e+00,  4.54545455e-01,  2.06611570e-01,\n",
              "         9.39143501e-02],\n",
              "       [ 1.00000000e+00,  5.15151515e-01,  2.65381084e-01,\n",
              "         1.36711467e-01],\n",
              "       [ 1.00000000e+00,  5.75757576e-01,  3.31496786e-01,\n",
              "         1.90861786e-01],\n",
              "       [ 1.00000000e+00,  6.36363636e-01,  4.04958678e-01,\n",
              "         2.57700977e-01],\n",
              "       [ 1.00000000e+00,  6.96969697e-01,  4.85766758e-01,\n",
              "         3.38564710e-01],\n",
              "       [ 1.00000000e+00,  7.57575758e-01,  5.73921028e-01,\n",
              "         4.34788658e-01],\n",
              "       [ 1.00000000e+00,  8.18181818e-01,  6.69421488e-01,\n",
              "         5.47708490e-01],\n",
              "       [ 1.00000000e+00,  8.78787879e-01,  7.72268136e-01,\n",
              "         6.78659877e-01],\n",
              "       [ 1.00000000e+00,  9.39393939e-01,  8.82460973e-01,\n",
              "         8.28978490e-01],\n",
              "       [ 1.00000000e+00,  1.00000000e+00,  1.00000000e+00,\n",
              "         1.00000000e+00],\n",
              "       [ 1.00000000e+00,  1.06060606e+00,  1.12488522e+00,\n",
              "         1.19306008e+00],\n",
              "       [ 1.00000000e+00,  1.12121212e+00,  1.25711662e+00,\n",
              "         1.40949439e+00],\n",
              "       [ 1.00000000e+00,  1.18181818e+00,  1.39669421e+00,\n",
              "         1.65063862e+00],\n",
              "       [ 1.00000000e+00,  1.24242424e+00,  1.54361800e+00,\n",
              "         1.91782842e+00],\n",
              "       [ 1.00000000e+00,  1.30303030e+00,  1.69788797e+00,\n",
              "         2.21239948e+00],\n",
              "       [ 1.00000000e+00,  1.36363636e+00,  1.85950413e+00,\n",
              "         2.53568745e+00],\n",
              "       [ 1.00000000e+00,  1.42424242e+00,  2.02846648e+00,\n",
              "         2.88902802e+00],\n",
              "       [ 1.00000000e+00,  1.48484848e+00,  2.20477502e+00,\n",
              "         3.27375685e+00],\n",
              "       [ 1.00000000e+00,  1.54545455e+00,  2.38842975e+00,\n",
              "         3.69120962e+00],\n",
              "       [ 1.00000000e+00,  1.60606061e+00,  2.57943067e+00,\n",
              "         4.14272199e+00],\n",
              "       [ 1.00000000e+00,  1.66666667e+00,  2.77777778e+00,\n",
              "         4.62962963e+00],\n",
              "       [ 1.00000000e+00,  1.72727273e+00,  2.98347107e+00,\n",
              "         5.15326822e+00],\n",
              "       [ 1.00000000e+00,  1.78787879e+00,  3.19651056e+00,\n",
              "         5.71497343e+00],\n",
              "       [ 1.00000000e+00,  1.84848485e+00,  3.41689624e+00,\n",
              "         6.31608092e+00],\n",
              "       [ 1.00000000e+00,  1.90909091e+00,  3.64462810e+00,\n",
              "         6.95792637e+00],\n",
              "       [ 1.00000000e+00,  1.96969697e+00,  3.87970615e+00,\n",
              "         7.64184545e+00],\n",
              "       [ 1.00000000e+00,  2.03030303e+00,  4.12213039e+00,\n",
              "         8.36917383e+00],\n",
              "       [ 1.00000000e+00,  2.09090909e+00,  4.37190083e+00,\n",
              "         9.14124718e+00],\n",
              "       [ 1.00000000e+00,  2.15151515e+00,  4.62901745e+00,\n",
              "         9.95940117e+00],\n",
              "       [ 1.00000000e+00,  2.21212121e+00,  4.89348026e+00,\n",
              "         1.08249715e+01],\n",
              "       [ 1.00000000e+00,  2.27272727e+00,  5.16528926e+00,\n",
              "         1.17392938e+01],\n",
              "       [ 1.00000000e+00,  2.33333333e+00,  5.44444444e+00,\n",
              "         1.27037037e+01],\n",
              "       [ 1.00000000e+00,  2.39393939e+00,  5.73094582e+00,\n",
              "         1.37195370e+01],\n",
              "       [ 1.00000000e+00,  2.45454545e+00,  6.02479339e+00,\n",
              "         1.47881292e+01],\n",
              "       [ 1.00000000e+00,  2.51515152e+00,  6.32598714e+00,\n",
              "         1.59108162e+01],\n",
              "       [ 1.00000000e+00,  2.57575758e+00,  6.63452709e+00,\n",
              "         1.70889334e+01],\n",
              "       [ 1.00000000e+00,  2.63636364e+00,  6.95041322e+00,\n",
              "         1.83238167e+01],\n",
              "       [ 1.00000000e+00,  2.69696970e+00,  7.27364555e+00,\n",
              "         1.96168016e+01],\n",
              "       [ 1.00000000e+00,  2.75757576e+00,  7.60422406e+00,\n",
              "         2.09692239e+01],\n",
              "       [ 1.00000000e+00,  2.81818182e+00,  7.94214876e+00,\n",
              "         2.23824192e+01],\n",
              "       [ 1.00000000e+00,  2.87878788e+00,  8.28741965e+00,\n",
              "         2.38577232e+01],\n",
              "       [ 1.00000000e+00,  2.93939394e+00,  8.64003673e+00,\n",
              "         2.53964716e+01],\n",
              "       [ 1.00000000e+00,  3.00000000e+00,  9.00000000e+00,\n",
              "         2.70000000e+01]])"
            ]
          },
          "metadata": {},
          "execution_count": 22
        }
      ]
    },
    {
      "cell_type": "code",
      "source": [
        "y_new=regression.predict(X_new_poly)\n",
        "plt.plot(X_new,y_new,color=\"r\",label=\"New Predictions\")\n",
        "plt.scatter(X_train,y_train,color=\"b\",label=\"Training points\")\n",
        "plt.scatter(X_test,y_test,color=\"g\",label=\"Testing points\")\n",
        "plt.xlabel(\"X values\")\n",
        "plt.ylabel(\"y values\")\n",
        "plt.legend()\n",
        "plt.show()\n",
        "#"
      ],
      "metadata": {
        "colab": {
          "base_uri": "https://localhost:8080/",
          "height": 449
        },
        "id": "bojbuIbybaUR",
        "outputId": "d6759fef-d5a0-4497-d2e8-ed1767bb71f8"
      },
      "execution_count": 23,
      "outputs": [
        {
          "output_type": "display_data",
          "data": {
            "text/plain": [
              "<Figure size 640x480 with 1 Axes>"
            ],
            "image/png": "[encoded data removed]"
          },
          "metadata": {}
        }
      ]
    },
    {
      "cell_type": "code",
      "source": [
        "from sklearn.pipeline import Pipeline"
      ],
      "metadata": {
        "id": "IFwO08ujASHs"
      },
      "execution_count": 24,
      "outputs": []
    },
    {
      "cell_type": "code",
      "source": [
        "def poly(degree):\n",
        "    X_new=np.linspace(-3,3,100).reshape(100,1)\n",
        "    polynomial_regression=Pipeline([\n",
        "        (\"poly_features\", PolynomialFeatures(degree=degree,include_bias=True)),\n",
        "        (\"lin_reg\", LinearRegression()),\n",
        "    ])\n",
        "    polynomial_regression.fit(X_train,y_train)\n",
        "    y_new=polynomial_regression.predict(X_new)\n",
        "    plt.scatter(X_new,y_new,color=\"r\",label=\"New Predictions\")\n",
        "    plt.xlabel(\"X values\")\n",
        "    plt.ylabel(\"y values\")\n",
        "    plt.scatter(X_train,y_train,color=\"b\",label=\"Training points\")\n",
        "    plt.scatter(X_test,y_test,color=\"g\",label=\"Testing points\")\n",
        "    plt.show()\n",
        "\n"
      ],
      "metadata": {
        "id": "pAvWgYqmAWMD"
      },
      "execution_count": 33,
      "outputs": []
    },
    {
      "cell_type": "code",
      "source": [
        "poly(5)"
      ],
      "metadata": {
        "colab": {
          "base_uri": "https://localhost:8080/",
          "height": 449
        },
        "id": "Rm4N_5TPAYMi",
        "outputId": "a5f5f512-2df6-47b9-ffcf-95fe9d6391e1"
      },
      "execution_count": 41,
      "outputs": [
        {
          "output_type": "display_data",
          "data": {
            "text/plain": [
              "<Figure size 640x480 with 1 Axes>"
            ],
            "image/png": "[encoded data removed]"
          },
          "metadata": {}
        }
      ]
    }
  ]
}
