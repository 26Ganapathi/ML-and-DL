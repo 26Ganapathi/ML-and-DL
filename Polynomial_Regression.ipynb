{
  "nbformat": 4,
  "nbformat_minor": 0,
  "metadata": {
    "colab": {
      "provenance": []
    },
    "kernelspec": {
      "name": "python3",
      "display_name": "Python 3"
    },
    "language_info": {
      "name": "python"
    }
  },
  "cells": [
    {
      "cell_type": "code",
      "execution_count": 1,
      "metadata": {
        "id": "79C4PqRT3jQa"
      },
      "outputs": [],
      "source": [
        "import numpy as np\n",
        "import pandas as pd\n",
        "import matplotlib.pyplot as plt\n",
        "%matplotlib inline\n",
        "\n"
      ]
    },
    {
      "cell_type": "code",
      "source": [
        "X=6*np.random.rand(100,1)-3\n",
        "y=0.5*X**2+X+2+np.random.randn(100,1)\n",
        "plt.scatter(X,y)\n",
        "plt.xlabel(\"X values\")\n",
        "plt.ylabel(\"y values\")\n",
        "plt.show()"
      ],
      "metadata": {
        "colab": {
          "base_uri": "https://localhost:8080/",
          "height": 449
        },
        "id": "7MyEMS2x3uTq",
        "outputId": "f8bb7ca7-2aeb-47c8-a275-4f4735893b43"
      },
      "execution_count": 3,
      "outputs": [
        {
          "output_type": "display_data",
          "data": {
            "text/plain": [
              "<Figure size 640x480 with 1 Axes>"
            ],
            "image/png": "[encoded data removed]"
          },
          "metadata": {}
        }
      ]
    },
    {
      "cell_type": "code",
      "source": [
        "from sklearn.model_selection import train_test_split\n",
        "X_train,X_test,y_train,y_test=train_test_split(X,y,test_size=0.2,random_state=42)"
      ],
      "metadata": {
        "id": "dSlOmHAZ9B1x"
      },
      "execution_count": 4,
      "outputs": []
    },
    {
      "cell_type": "code",
      "source": [
        "from sklearn.linear_model import LinearRegression\n",
        "regression=LinearRegression()\n",
        "regression.fit(X_train,y_train)"
      ],
      "metadata": {
        "colab": {
          "base_uri": "https://localhost:8080/",
          "height": 74
        },
        "id": "qakPDSsP9rvJ",
        "outputId": "a2964370-fa4f-4e03-8017-eebfb6d7b389"
      },
      "execution_count": 20,
      "outputs": [
        {
          "output_type": "execute_result",
          "data": {
            "text/plain": [
              "LinearRegression()"
            ],
            "text/html": [
              "<style>#sk-container-id-4 {color: black;}#sk-container-id-4 pre{padding: 0;}#sk-container-id-4 div.sk-toggleable {background-color: white;}#sk-container-id-4 label.sk-toggleable__label {cursor: pointer;display: block;width: 100%;margin-bottom: 0;padding: 0.3em;box-sizing: border-box;text-align: center;}#sk-container-id-4 label.sk-toggleable__label-arrow:before {content: \"▸\";float: left;margin-right: 0.25em;color: #696969;}#sk-container-id-4 label.sk-toggleable__label-arrow:hover:before {color: black;}#sk-container-id-4 div.sk-estimator:hover label.sk-toggleable__label-arrow:before {color: black;}#sk-container-id-4 div.sk-toggleable__content {max-height: 0;max-width: 0;overflow: hidden;text-align: left;background-color: #f0f8ff;}#sk-container-id-4 div.sk-toggleable__content pre {margin: 0.2em;color: black;border-radius: 0.25em;background-color: #f0f8ff;}#sk-container-id-4 input.sk-toggleable__control:checked~div.sk-toggleable__content {max-height: 200px;max-width: 100%;overflow: auto;}#sk-container-id-4 input.sk-toggleable__control:checked~label.sk-toggleable__label-arrow:before {content: \"▾\";}#sk-container-id-4 div.sk-estimator input.sk-toggleable__control:checked~label.sk-toggleable__label {background-color: #d4ebff;}#sk-container-id-4 div.sk-label input.sk-toggleable__control:checked~label.sk-toggleable__label {background-color: #d4ebff;}#sk-container-id-4 input.sk-hidden--visually {border: 0;clip: rect(1px 1px 1px 1px);clip: rect(1px, 1px, 1px, 1px);height: 1px;margin: -1px;overflow: hidden;padding: 0;position: absolute;width: 1px;}#sk-container-id-4 div.sk-estimator {font-family: monospace;background-color: #f0f8ff;border: 1px dotted black;border-radius: 0.25em;box-sizing: border-box;margin-bottom: 0.5em;}#sk-container-id-4 div.sk-estimator:hover {background-color: #d4ebff;}#sk-container-id-4 div.sk-parallel-item::after {content: \"\";width: 100%;border-bottom: 1px solid gray;flex-grow: 1;}#sk-container-id-4 div.sk-label:hover label.sk-toggleable__label {background-color: #d4ebff;}#sk-container-id-4 div.sk-serial::before {content: \"\";position: absolute;border-left: 1px solid gray;box-sizing: border-box;top: 0;bottom: 0;left: 50%;z-index: 0;}#sk-container-id-4 div.sk-serial {display: flex;flex-direction: column;align-items: center;background-color: white;padding-right: 0.2em;padding-left: 0.2em;position: relative;}#sk-container-id-4 div.sk-item {position: relative;z-index: 1;}#sk-container-id-4 div.sk-parallel {display: flex;align-items: stretch;justify-content: center;background-color: white;position: relative;}#sk-container-id-4 div.sk-item::before, #sk-container-id-4 div.sk-parallel-item::before {content: \"\";position: absolute;border-left: 1px solid gray;box-sizing: border-box;top: 0;bottom: 0;left: 50%;z-index: -1;}#sk-container-id-4 div.sk-parallel-item {display: flex;flex-direction: column;z-index: 1;position: relative;background-color: white;}#sk-container-id-4 div.sk-parallel-item:first-child::after {align-self: flex-end;width: 50%;}#sk-container-id-4 div.sk-parallel-item:last-child::after {align-self: flex-start;width: 50%;}#sk-container-id-4 div.sk-parallel-item:only-child::after {width: 0;}#sk-container-id-4 div.sk-dashed-wrapped {border: 1px dashed gray;margin: 0 0.4em 0.5em 0.4em;box-sizing: border-box;padding-bottom: 0.4em;background-color: white;}#sk-container-id-4 div.sk-label label {font-family: monospace;font-weight: bold;display: inline-block;line-height: 1.2em;}#sk-container-id-4 div.sk-label-container {text-align: center;}#sk-container-id-4 div.sk-container {/* jupyter's `normalize.less` sets `[hidden] { display: none; }` but bootstrap.min.css set `[hidden] { display: none !important; }` so we also need the `!important` here to be able to override the default hidden behavior on the sphinx rendered scikit-learn.org. See: https://github.com/scikit-learn/scikit-learn/issues/21755 */display: inline-block !important;position: relative;}#sk-container-id-4 div.sk-text-repr-fallback {display: none;}</style><div id=\"sk-container-id-4\" class=\"sk-top-container\"><div class=\"sk-text-repr-fallback\"><pre>LinearRegression()</pre><b>In a Jupyter environment, please rerun this cell to show the HTML representation or trust the notebook. <br />On GitHub, the HTML representation is unable to render, please try loading this page with nbviewer.org.</b></div><div class=\"sk-container\" hidden><div class=\"sk-item\"><div class=\"sk-estimator sk-toggleable\"><input class=\"sk-toggleable__control sk-hidden--visually\" id=\"sk-estimator-id-4\" type=\"checkbox\" checked><label for=\"sk-estimator-id-4\" class=\"sk-toggleable__label sk-toggleable__label-arrow\">LinearRegression</label><div class=\"sk-toggleable__content\"><pre>LinearRegression()</pre></div></div></div></div></div>"
            ]
          },
          "metadata": {},
          "execution_count": 20
        }
      ]
    },
    {
      "cell_type": "code",
      "source": [
        "from sklearn.metrics import r2_score\n",
        "sscore=r2_score(y_test,regression.predict(X_test))\n",
        "print(sscore)"
      ],
      "metadata": {
        "colab": {
          "base_uri": "https://localhost:8080/"
        },
        "id": "KRnjVZQJ-pgk",
        "outputId": "499ce2a8-c3b2-41d8-d3b5-0d4c07a00bc1"
      },
      "execution_count": 21,
      "outputs": [
        {
          "output_type": "stream",
          "name": "stdout",
          "text": [
            "0.6004142477980483\n"
          ]
        }
      ]
    },
    {
      "cell_type": "code",
      "source": [
        "plt.scatter(X_train,y_train,color=\"r\")\n",
        "plt.plot(X_train,regression.predict(X_train),color=\"g\")\n",
        "plt.xlabel(\"X values\")\n",
        "plt.ylabel(\"y values\")\n",
        "plt.show()"
      ],
      "metadata": {
        "colab": {
          "base_uri": "https://localhost:8080/",
          "height": 449
        },
        "id": "ngocmgHVBFby",
        "outputId": "b4b33bc8-3c6b-4a5d-fa78-c0a10d9ca9e8"
      },
      "execution_count": 22,
      "outputs": [
        {
          "output_type": "display_data",
          "data": {
            "text/plain": [
              "<Figure size 640x480 with 1 Axes>"
            ],
            "image/png": "[encoded data removed]"
          },
          "metadata": {}
        }
      ]
    },
    {
      "cell_type": "code",
      "source": [
        "from sklearn.preprocessing import PolynomialFeatures"
      ],
      "metadata": {
        "id": "mSJBNpshlg9p"
      },
      "execution_count": 41,
      "outputs": []
    },
    {
      "cell_type": "code",
      "source": [
        "poly=PolynomialFeatures(degree=2,include_bias=True)\n",
        "X_train_poly=poly.fit_transform(X_train)\n",
        "X_test_poly=poly.transform(X_test)"
      ],
      "metadata": {
        "id": "cc4Kz_B5UY4w"
      },
      "execution_count": 42,
      "outputs": []
    },
    {
      "cell_type": "code",
      "source": [
        "X_train_poly"
      ],
      "metadata": {
        "colab": {
          "base_uri": "https://localhost:8080/"
        },
        "id": "_4CysCyqU2w3",
        "outputId": "742e515d-b816-4806-d65c-24dbe3a7e5cf"
      },
      "execution_count": 43,
      "outputs": [
        {
          "output_type": "execute_result",
          "data": {
            "text/plain": [
              "array([[ 1.00000000e+00, -2.27160845e+00,  5.16020494e+00],\n",
              "       [ 1.00000000e+00, -2.67435490e+00,  7.15217413e+00],\n",
              "       [ 1.00000000e+00,  2.48027008e+00,  6.15173969e+00],\n",
              "       [ 1.00000000e+00, -8.08974587e-02,  6.54439882e-03],\n",
              "       [ 1.00000000e+00, -1.05043601e+00,  1.10341580e+00],\n",
              "       [ 1.00000000e+00, -1.92997996e+00,  3.72482265e+00],\n",
              "       [ 1.00000000e+00,  9.51959261e-01,  9.06226435e-01],\n",
              "       [ 1.00000000e+00,  1.25057591e+00,  1.56394012e+00],\n",
              "       [ 1.00000000e+00,  1.26609175e+00,  1.60298831e+00],\n",
              "       [ 1.00000000e+00,  2.25374601e+00,  5.07937107e+00],\n",
              "       [ 1.00000000e+00,  1.53036807e+00,  2.34202643e+00],\n",
              "       [ 1.00000000e+00, -2.40128251e+00,  5.76615771e+00],\n",
              "       [ 1.00000000e+00,  2.68612423e+00,  7.21526336e+00],\n",
              "       [ 1.00000000e+00,  2.95858411e+00,  8.75321994e+00],\n",
              "       [ 1.00000000e+00, -2.22312774e+00,  4.94229695e+00],\n",
              "       [ 1.00000000e+00, -2.37428079e+00,  5.63720929e+00],\n",
              "       [ 1.00000000e+00,  2.25542167e+00,  5.08692691e+00],\n",
              "       [ 1.00000000e+00, -1.17920604e-01,  1.39052689e-02],\n",
              "       [ 1.00000000e+00,  2.37102137e+00,  5.62174233e+00],\n",
              "       [ 1.00000000e+00,  2.76159198e+00,  7.62639026e+00],\n",
              "       [ 1.00000000e+00, -2.43897882e-01,  5.94861766e-02],\n",
              "       [ 1.00000000e+00, -1.87131092e-01,  3.50180456e-02],\n",
              "       [ 1.00000000e+00,  2.13058511e+00,  4.53939290e+00],\n",
              "       [ 1.00000000e+00,  1.73850605e+00,  3.02240330e+00],\n",
              "       [ 1.00000000e+00,  2.83667444e-01,  8.04672189e-02],\n",
              "       [ 1.00000000e+00,  2.57670068e+00,  6.63938639e+00],\n",
              "       [ 1.00000000e+00, -1.18899453e-01,  1.41370800e-02],\n",
              "       [ 1.00000000e+00,  4.71787419e-01,  2.22583369e-01],\n",
              "       [ 1.00000000e+00, -9.35594055e-01,  8.75336235e-01],\n",
              "       [ 1.00000000e+00, -2.31006336e-01,  5.33639272e-02],\n",
              "       [ 1.00000000e+00, -2.31643243e-01,  5.36585920e-02],\n",
              "       [ 1.00000000e+00,  6.56470693e-01,  4.30953771e-01],\n",
              "       [ 1.00000000e+00, -1.57324620e+00,  2.47510362e+00],\n",
              "       [ 1.00000000e+00,  1.76178194e+00,  3.10387560e+00],\n",
              "       [ 1.00000000e+00, -2.79963260e+00,  7.83794271e+00],\n",
              "       [ 1.00000000e+00,  2.85598738e+00,  8.15666392e+00],\n",
              "       [ 1.00000000e+00,  2.65392269e+00,  7.04330566e+00],\n",
              "       [ 1.00000000e+00,  9.33826799e-01,  8.72032491e-01],\n",
              "       [ 1.00000000e+00,  5.02234819e-01,  2.52239813e-01],\n",
              "       [ 1.00000000e+00, -1.98722695e+00,  3.94907095e+00],\n",
              "       [ 1.00000000e+00,  2.73291299e+00,  7.46881341e+00],\n",
              "       [ 1.00000000e+00, -2.16359967e+00,  4.68116355e+00],\n",
              "       [ 1.00000000e+00, -2.14125382e+00,  4.58496792e+00],\n",
              "       [ 1.00000000e+00,  1.56550263e+00,  2.45079848e+00],\n",
              "       [ 1.00000000e+00,  7.88608327e-01,  6.21903094e-01],\n",
              "       [ 1.00000000e+00, -2.89277287e+00,  8.36813489e+00],\n",
              "       [ 1.00000000e+00, -1.47211955e-01,  2.16713596e-02],\n",
              "       [ 1.00000000e+00,  2.24987560e+00,  5.06194020e+00],\n",
              "       [ 1.00000000e+00,  1.42953654e+00,  2.04357472e+00],\n",
              "       [ 1.00000000e+00, -1.81252782e+00,  3.28525708e+00],\n",
              "       [ 1.00000000e+00,  1.51660989e+00,  2.30010554e+00],\n",
              "       [ 1.00000000e+00,  2.59340457e+00,  6.72574725e+00],\n",
              "       [ 1.00000000e+00, -1.16436512e+00,  1.35574613e+00],\n",
              "       [ 1.00000000e+00,  1.37192041e+00,  1.88216562e+00],\n",
              "       [ 1.00000000e+00,  9.92242156e-01,  9.84544496e-01],\n",
              "       [ 1.00000000e+00, -1.83911359e-01,  3.38233881e-02],\n",
              "       [ 1.00000000e+00, -1.87252365e-01,  3.50634482e-02],\n",
              "       [ 1.00000000e+00, -2.60527872e+00,  6.78747719e+00],\n",
              "       [ 1.00000000e+00,  1.06157950e+00,  1.12695103e+00],\n",
              "       [ 1.00000000e+00,  2.62780635e+00,  6.90536619e+00],\n",
              "       [ 1.00000000e+00, -2.10269570e+00,  4.42132922e+00],\n",
              "       [ 1.00000000e+00,  2.62524460e+00,  6.89190920e+00],\n",
              "       [ 1.00000000e+00, -2.97968703e+00,  8.87853477e+00],\n",
              "       [ 1.00000000e+00, -2.54056621e+00,  6.45447668e+00],\n",
              "       [ 1.00000000e+00,  2.37740905e+00,  5.65207380e+00],\n",
              "       [ 1.00000000e+00, -1.80634024e+00,  3.26286508e+00],\n",
              "       [ 1.00000000e+00,  1.04171976e+00,  1.08518007e+00],\n",
              "       [ 1.00000000e+00,  4.87297524e-01,  2.37458877e-01],\n",
              "       [ 1.00000000e+00,  1.08735105e+00,  1.18233230e+00],\n",
              "       [ 1.00000000e+00, -1.70329204e+00,  2.90120376e+00],\n",
              "       [ 1.00000000e+00,  1.79400473e+00,  3.21845298e+00],\n",
              "       [ 1.00000000e+00,  1.75589114e+00,  3.08315368e+00],\n",
              "       [ 1.00000000e+00,  7.12143975e-01,  5.07149042e-01],\n",
              "       [ 1.00000000e+00, -4.37106484e-01,  1.91062078e-01],\n",
              "       [ 1.00000000e+00,  5.38522669e-01,  2.90006665e-01],\n",
              "       [ 1.00000000e+00,  2.83163221e+00,  8.01814100e+00],\n",
              "       [ 1.00000000e+00,  2.56497539e+00,  6.57909875e+00],\n",
              "       [ 1.00000000e+00,  1.64285932e+00,  2.69898675e+00],\n",
              "       [ 1.00000000e+00, -1.89891123e+00,  3.60586386e+00],\n",
              "       [ 1.00000000e+00, -2.21002165e+00,  4.88419572e+00]])"
            ]
          },
          "metadata": {},
          "execution_count": 43
        }
      ]
    },
    {
      "cell_type": "code",
      "source": [
        "X_test_poly"
      ],
      "metadata": {
        "colab": {
          "base_uri": "https://localhost:8080/"
        },
        "id": "-DHVI9UOWdhx",
        "outputId": "ff674896-f599-4343-e5e8-a36929001a87"
      },
      "execution_count": 44,
      "outputs": [
        {
          "output_type": "execute_result",
          "data": {
            "text/plain": [
              "array([[ 1.        ,  1.61506725,  2.60844221],\n",
              "       [ 1.        , -1.71340604,  2.93576026],\n",
              "       [ 1.        ,  1.69137108,  2.86073613],\n",
              "       [ 1.        , -1.11649173,  1.24655377],\n",
              "       [ 1.        ,  0.69622302,  0.48472649],\n",
              "       [ 1.        , -0.72537056,  0.52616244],\n",
              "       [ 1.        ,  0.55016187,  0.30267808],\n",
              "       [ 1.        , -1.1538861 ,  1.33145312],\n",
              "       [ 1.        ,  1.77168232,  3.13885825],\n",
              "       [ 1.        ,  0.27567808,  0.07599841],\n",
              "       [ 1.        ,  0.55214142,  0.30486015],\n",
              "       [ 1.        ,  1.11136309,  1.23512793],\n",
              "       [ 1.        , -1.07676567,  1.15942431],\n",
              "       [ 1.        , -0.72429723,  0.52460648],\n",
              "       [ 1.        ,  2.9972992 ,  8.98380248],\n",
              "       [ 1.        ,  1.53842178,  2.36674156],\n",
              "       [ 1.        ,  0.23766451,  0.05648442],\n",
              "       [ 1.        ,  2.67196195,  7.13938065],\n",
              "       [ 1.        , -2.5394781 ,  6.44894903],\n",
              "       [ 1.        ,  1.00510908,  1.01024427]])"
            ]
          },
          "metadata": {},
          "execution_count": 44
        }
      ]
    },
    {
      "cell_type": "code",
      "source": [
        "from sklearn.linear_model import LinearRegression\n",
        "regression=LinearRegression()\n",
        "regression.fit(X_train_poly,y_train)"
      ],
      "metadata": {
        "colab": {
          "base_uri": "https://localhost:8080/",
          "height": 74
        },
        "id": "kr-9KjzUWmWK",
        "outputId": "5adcc3ca-ccaa-4c2a-d420-afa83a235756"
      },
      "execution_count": 45,
      "outputs": [
        {
          "output_type": "execute_result",
          "data": {
            "text/plain": [
              "LinearRegression()"
            ],
            "text/html": [
              "<style>#sk-container-id-10 {color: black;}#sk-container-id-10 pre{padding: 0;}#sk-container-id-10 div.sk-toggleable {background-color: white;}#sk-container-id-10 label.sk-toggleable__label {cursor: pointer;display: block;width: 100%;margin-bottom: 0;padding: 0.3em;box-sizing: border-box;text-align: center;}#sk-container-id-10 label.sk-toggleable__label-arrow:before {content: \"▸\";float: left;margin-right: 0.25em;color: #696969;}#sk-container-id-10 label.sk-toggleable__label-arrow:hover:before {color: black;}#sk-container-id-10 div.sk-estimator:hover label.sk-toggleable__label-arrow:before {color: black;}#sk-container-id-10 div.sk-toggleable__content {max-height: 0;max-width: 0;overflow: hidden;text-align: left;background-color: #f0f8ff;}#sk-container-id-10 div.sk-toggleable__content pre {margin: 0.2em;color: black;border-radius: 0.25em;background-color: #f0f8ff;}#sk-container-id-10 input.sk-toggleable__control:checked~div.sk-toggleable__content {max-height: 200px;max-width: 100%;overflow: auto;}#sk-container-id-10 input.sk-toggleable__control:checked~label.sk-toggleable__label-arrow:before {content: \"▾\";}#sk-container-id-10 div.sk-estimator input.sk-toggleable__control:checked~label.sk-toggleable__label {background-color: #d4ebff;}#sk-container-id-10 div.sk-label input.sk-toggleable__control:checked~label.sk-toggleable__label {background-color: #d4ebff;}#sk-container-id-10 input.sk-hidden--visually {border: 0;clip: rect(1px 1px 1px 1px);clip: rect(1px, 1px, 1px, 1px);height: 1px;margin: -1px;overflow: hidden;padding: 0;position: absolute;width: 1px;}#sk-container-id-10 div.sk-estimator {font-family: monospace;background-color: #f0f8ff;border: 1px dotted black;border-radius: 0.25em;box-sizing: border-box;margin-bottom: 0.5em;}#sk-container-id-10 div.sk-estimator:hover {background-color: #d4ebff;}#sk-container-id-10 div.sk-parallel-item::after {content: \"\";width: 100%;border-bottom: 1px solid gray;flex-grow: 1;}#sk-container-id-10 div.sk-label:hover label.sk-toggleable__label {background-color: #d4ebff;}#sk-container-id-10 div.sk-serial::before {content: \"\";position: absolute;border-left: 1px solid gray;box-sizing: border-box;top: 0;bottom: 0;left: 50%;z-index: 0;}#sk-container-id-10 div.sk-serial {display: flex;flex-direction: column;align-items: center;background-color: white;padding-right: 0.2em;padding-left: 0.2em;position: relative;}#sk-container-id-10 div.sk-item {position: relative;z-index: 1;}#sk-container-id-10 div.sk-parallel {display: flex;align-items: stretch;justify-content: center;background-color: white;position: relative;}#sk-container-id-10 div.sk-item::before, #sk-container-id-10 div.sk-parallel-item::before {content: \"\";position: absolute;border-left: 1px solid gray;box-sizing: border-box;top: 0;bottom: 0;left: 50%;z-index: -1;}#sk-container-id-10 div.sk-parallel-item {display: flex;flex-direction: column;z-index: 1;position: relative;background-color: white;}#sk-container-id-10 div.sk-parallel-item:first-child::after {align-self: flex-end;width: 50%;}#sk-container-id-10 div.sk-parallel-item:last-child::after {align-self: flex-start;width: 50%;}#sk-container-id-10 div.sk-parallel-item:only-child::after {width: 0;}#sk-container-id-10 div.sk-dashed-wrapped {border: 1px dashed gray;margin: 0 0.4em 0.5em 0.4em;box-sizing: border-box;padding-bottom: 0.4em;background-color: white;}#sk-container-id-10 div.sk-label label {font-family: monospace;font-weight: bold;display: inline-block;line-height: 1.2em;}#sk-container-id-10 div.sk-label-container {text-align: center;}#sk-container-id-10 div.sk-container {/* jupyter's `normalize.less` sets `[hidden] { display: none; }` but bootstrap.min.css set `[hidden] { display: none !important; }` so we also need the `!important` here to be able to override the default hidden behavior on the sphinx rendered scikit-learn.org. See: https://github.com/scikit-learn/scikit-learn/issues/21755 */display: inline-block !important;position: relative;}#sk-container-id-10 div.sk-text-repr-fallback {display: none;}</style><div id=\"sk-container-id-10\" class=\"sk-top-container\"><div class=\"sk-text-repr-fallback\"><pre>LinearRegression()</pre><b>In a Jupyter environment, please rerun this cell to show the HTML representation or trust the notebook. <br />On GitHub, the HTML representation is unable to render, please try loading this page with nbviewer.org.</b></div><div class=\"sk-container\" hidden><div class=\"sk-item\"><div class=\"sk-estimator sk-toggleable\"><input class=\"sk-toggleable__control sk-hidden--visually\" id=\"sk-estimator-id-10\" type=\"checkbox\" checked><label for=\"sk-estimator-id-10\" class=\"sk-toggleable__label sk-toggleable__label-arrow\">LinearRegression</label><div class=\"sk-toggleable__content\"><pre>LinearRegression()</pre></div></div></div></div></div>"
            ]
          },
          "metadata": {},
          "execution_count": 45
        }
      ]
    },
    {
      "cell_type": "code",
      "source": [
        "from sklearn.metrics import r2_score\n",
        "sscore=r2_score(y_test,regression.predict(X_test_poly))\n",
        "print(sscore)"
      ],
      "metadata": {
        "colab": {
          "base_uri": "https://localhost:8080/"
        },
        "id": "REzdXS9YXDrJ",
        "outputId": "afb57762-549f-4f7b-811c-db0e77177547"
      },
      "execution_count": 46,
      "outputs": [
        {
          "output_type": "stream",
          "name": "stdout",
          "text": [
            "0.7974936639461826\n"
          ]
        }
      ]
    },
    {
      "cell_type": "code",
      "source": [
        "plt.scatter(X_train,y_train,color=\"r\")\n",
        "plt.scatter(X_train,regression.predict(X_train_poly),color=\"g\")\n",
        "plt.xlabel(\"X values\")\n",
        "plt.ylabel(\"y values\")\n",
        "plt.show()"
      ],
      "metadata": {
        "colab": {
          "base_uri": "https://localhost:8080/",
          "height": 449
        },
        "id": "a5OfkvSnYdUQ",
        "outputId": "67fe9205-48f2-4db4-bcfd-eb619451768f"
      },
      "execution_count": 47,
      "outputs": [
        {
          "output_type": "display_data",
          "data": {
            "text/plain": [
              "<Figure size 640x480 with 1 Axes>"
            ],
            "image/png": "[encoded data removed]"
          },
          "metadata": {}
        }
      ]
    },
    {
      "cell_type": "code",
      "source": [
        "poly=PolynomialFeatures(degree=3,include_bias=True)\n",
        "X_train_poly=poly.fit_transform(X_train)\n",
        "X_test_poly=poly.transform(X_test)"
      ],
      "metadata": {
        "id": "lLcBHDUPXUh8"
      },
      "execution_count": 60,
      "outputs": []
    },
    {
      "cell_type": "code",
      "source": [
        "X_train_poly"
      ],
      "metadata": {
        "colab": {
          "base_uri": "https://localhost:8080/"
        },
        "id": "P6Da9lHdYBFp",
        "outputId": "6e9ccca2-6184-4310-f563-5b175a6d1758"
      },
      "execution_count": 61,
      "outputs": [
        {
          "output_type": "execute_result",
          "data": {
            "text/plain": [
              "array([[ 1.00000000e+00, -2.27160845e+00,  5.16020494e+00,\n",
              "        -1.17219651e+01],\n",
              "       [ 1.00000000e+00, -2.67435490e+00,  7.15217413e+00,\n",
              "        -1.91274519e+01],\n",
              "       [ 1.00000000e+00,  2.48027008e+00,  6.15173969e+00,\n",
              "         1.52579759e+01],\n",
              "       [ 1.00000000e+00, -8.08974587e-02,  6.54439882e-03,\n",
              "        -5.29425233e-04],\n",
              "       [ 1.00000000e+00, -1.05043601e+00,  1.10341580e+00,\n",
              "        -1.15906769e+00],\n",
              "       [ 1.00000000e+00, -1.92997996e+00,  3.72482265e+00,\n",
              "        -7.18883308e+00],\n",
              "       [ 1.00000000e+00,  9.51959261e-01,  9.06226435e-01,\n",
              "         8.62690648e-01],\n",
              "       [ 1.00000000e+00,  1.25057591e+00,  1.56394012e+00,\n",
              "         1.95582584e+00],\n",
              "       [ 1.00000000e+00,  1.26609175e+00,  1.60298831e+00,\n",
              "         2.02953027e+00],\n",
              "       [ 1.00000000e+00,  2.25374601e+00,  5.07937107e+00,\n",
              "         1.14476123e+01],\n",
              "       [ 1.00000000e+00,  1.53036807e+00,  2.34202643e+00,\n",
              "         3.58416246e+00],\n",
              "       [ 1.00000000e+00, -2.40128251e+00,  5.76615771e+00,\n",
              "        -1.38461737e+01],\n",
              "       [ 1.00000000e+00,  2.68612423e+00,  7.21526336e+00,\n",
              "         1.93810937e+01],\n",
              "       [ 1.00000000e+00,  2.95858411e+00,  8.75321994e+00,\n",
              "         2.58971375e+01],\n",
              "       [ 1.00000000e+00, -2.22312774e+00,  4.94229695e+00,\n",
              "        -1.09873574e+01],\n",
              "       [ 1.00000000e+00, -2.37428079e+00,  5.63720929e+00,\n",
              "        -1.33843177e+01],\n",
              "       [ 1.00000000e+00,  2.25542167e+00,  5.08692691e+00,\n",
              "         1.14731652e+01],\n",
              "       [ 1.00000000e+00, -1.17920604e-01,  1.39052689e-02,\n",
              "        -1.63971772e-03],\n",
              "       [ 1.00000000e+00,  2.37102137e+00,  5.62174233e+00,\n",
              "         1.33292712e+01],\n",
              "       [ 1.00000000e+00,  2.76159198e+00,  7.62639026e+00,\n",
              "         2.10609782e+01],\n",
              "       [ 1.00000000e+00, -2.43897882e-01,  5.94861766e-02,\n",
              "        -1.45085525e-02],\n",
              "       [ 1.00000000e+00, -1.87131092e-01,  3.50180456e-02,\n",
              "        -6.55296512e-03],\n",
              "       [ 1.00000000e+00,  2.13058511e+00,  4.53939290e+00,\n",
              "         9.67156289e+00],\n",
              "       [ 1.00000000e+00,  1.73850605e+00,  3.02240330e+00,\n",
              "         5.25446643e+00],\n",
              "       [ 1.00000000e+00,  2.83667444e-01,  8.04672189e-02,\n",
              "         2.28259303e-02],\n",
              "       [ 1.00000000e+00,  2.57670068e+00,  6.63938639e+00,\n",
              "         1.71077114e+01],\n",
              "       [ 1.00000000e+00, -1.18899453e-01,  1.41370800e-02,\n",
              "        -1.68089108e-03],\n",
              "       [ 1.00000000e+00,  4.71787419e-01,  2.22583369e-01,\n",
              "         1.05012033e-01],\n",
              "       [ 1.00000000e+00, -9.35594055e-01,  8.75336235e-01,\n",
              "        -8.18959378e-01],\n",
              "       [ 1.00000000e+00, -2.31006336e-01,  5.33639272e-02,\n",
              "        -1.23274053e-02],\n",
              "       [ 1.00000000e+00, -2.31643243e-01,  5.36585920e-02,\n",
              "        -1.24296502e-02],\n",
              "       [ 1.00000000e+00,  6.56470693e-01,  4.30953771e-01,\n",
              "         2.82908521e-01],\n",
              "       [ 1.00000000e+00, -1.57324620e+00,  2.47510362e+00,\n",
              "        -3.89394737e+00],\n",
              "       [ 1.00000000e+00,  1.76178194e+00,  3.10387560e+00,\n",
              "         5.46835196e+00],\n",
              "       [ 1.00000000e+00, -2.79963260e+00,  7.83794271e+00,\n",
              "        -2.19433600e+01],\n",
              "       [ 1.00000000e+00,  2.85598738e+00,  8.15666392e+00,\n",
              "         2.32953292e+01],\n",
              "       [ 1.00000000e+00,  2.65392269e+00,  7.04330566e+00,\n",
              "         1.86923887e+01],\n",
              "       [ 1.00000000e+00,  9.33826799e-01,  8.72032491e-01,\n",
              "         8.14327310e-01],\n",
              "       [ 1.00000000e+00,  5.02234819e-01,  2.52239813e-01,\n",
              "         1.26683617e-01],\n",
              "       [ 1.00000000e+00, -1.98722695e+00,  3.94907095e+00,\n",
              "        -7.84770021e+00],\n",
              "       [ 1.00000000e+00,  2.73291299e+00,  7.46881341e+00,\n",
              "         2.04116172e+01],\n",
              "       [ 1.00000000e+00, -2.16359967e+00,  4.68116355e+00,\n",
              "        -1.01281639e+01],\n",
              "       [ 1.00000000e+00, -2.14125382e+00,  4.58496792e+00,\n",
              "        -9.81758008e+00],\n",
              "       [ 1.00000000e+00,  1.56550263e+00,  2.45079848e+00,\n",
              "         3.83673147e+00],\n",
              "       [ 1.00000000e+00,  7.88608327e-01,  6.21903094e-01,\n",
              "         4.90437958e-01],\n",
              "       [ 1.00000000e+00, -2.89277287e+00,  8.36813489e+00,\n",
              "        -2.42071136e+01],\n",
              "       [ 1.00000000e+00, -1.47211955e-01,  2.16713596e-02,\n",
              "        -3.19028321e-03],\n",
              "       [ 1.00000000e+00,  2.24987560e+00,  5.06194020e+00,\n",
              "         1.13887357e+01],\n",
              "       [ 1.00000000e+00,  1.42953654e+00,  2.04357472e+00,\n",
              "         2.92136474e+00],\n",
              "       [ 1.00000000e+00, -1.81252782e+00,  3.28525708e+00,\n",
              "        -5.95461984e+00],\n",
              "       [ 1.00000000e+00,  1.51660989e+00,  2.30010554e+00,\n",
              "         3.48836281e+00],\n",
              "       [ 1.00000000e+00,  2.59340457e+00,  6.72574725e+00,\n",
              "         1.74425837e+01],\n",
              "       [ 1.00000000e+00, -1.16436512e+00,  1.35574613e+00,\n",
              "        -1.57858351e+00],\n",
              "       [ 1.00000000e+00,  1.37192041e+00,  1.88216562e+00,\n",
              "         2.58218144e+00],\n",
              "       [ 1.00000000e+00,  9.92242156e-01,  9.84544496e-01,\n",
              "         9.76906553e-01],\n",
              "       [ 1.00000000e+00, -1.83911359e-01,  3.38233881e-02,\n",
              "        -6.22050527e-03],\n",
              "       [ 1.00000000e+00, -1.87252365e-01,  3.50634482e-02,\n",
              "        -6.56571360e-03],\n",
              "       [ 1.00000000e+00, -2.60527872e+00,  6.78747719e+00,\n",
              "        -1.76832699e+01],\n",
              "       [ 1.00000000e+00,  1.06157950e+00,  1.12695103e+00,\n",
              "         1.19634811e+00],\n",
              "       [ 1.00000000e+00,  2.62780635e+00,  6.90536619e+00,\n",
              "         1.81459651e+01],\n",
              "       [ 1.00000000e+00, -2.10269570e+00,  4.42132922e+00,\n",
              "        -9.29670994e+00],\n",
              "       [ 1.00000000e+00,  2.62524460e+00,  6.89190920e+00,\n",
              "         1.80929474e+01],\n",
              "       [ 1.00000000e+00, -2.97968703e+00,  8.87853477e+00,\n",
              "        -2.64552549e+01],\n",
              "       [ 1.00000000e+00, -2.54056621e+00,  6.45447668e+00,\n",
              "        -1.63980254e+01],\n",
              "       [ 1.00000000e+00,  2.37740905e+00,  5.65207380e+00,\n",
              "         1.34372914e+01],\n",
              "       [ 1.00000000e+00, -1.80634024e+00,  3.26286508e+00,\n",
              "        -5.89384450e+00],\n",
              "       [ 1.00000000e+00,  1.04171976e+00,  1.08518007e+00,\n",
              "         1.13045352e+00],\n",
              "       [ 1.00000000e+00,  4.87297524e-01,  2.37458877e-01,\n",
              "         1.15713123e-01],\n",
              "       [ 1.00000000e+00,  1.08735105e+00,  1.18233230e+00,\n",
              "         1.28561027e+00],\n",
              "       [ 1.00000000e+00, -1.70329204e+00,  2.90120376e+00,\n",
              "        -4.94159726e+00],\n",
              "       [ 1.00000000e+00,  1.79400473e+00,  3.21845298e+00,\n",
              "         5.77391987e+00],\n",
              "       [ 1.00000000e+00,  1.75589114e+00,  3.08315368e+00,\n",
              "         5.41368223e+00],\n",
              "       [ 1.00000000e+00,  7.12143975e-01,  5.07149042e-01,\n",
              "         3.61163135e-01],\n",
              "       [ 1.00000000e+00, -4.37106484e-01,  1.91062078e-01,\n",
              "        -8.35144733e-02],\n",
              "       [ 1.00000000e+00,  5.38522669e-01,  2.90006665e-01,\n",
              "         1.56175163e-01],\n",
              "       [ 1.00000000e+00,  2.83163221e+00,  8.01814100e+00,\n",
              "         2.27044264e+01],\n",
              "       [ 1.00000000e+00,  2.56497539e+00,  6.57909875e+00,\n",
              "         1.68752264e+01],\n",
              "       [ 1.00000000e+00,  1.64285932e+00,  2.69898675e+00,\n",
              "         4.43405555e+00],\n",
              "       [ 1.00000000e+00, -1.89891123e+00,  3.60586386e+00,\n",
              "        -6.84721539e+00],\n",
              "       [ 1.00000000e+00, -2.21002165e+00,  4.88419572e+00,\n",
              "        -1.07941783e+01]])"
            ]
          },
          "metadata": {},
          "execution_count": 61
        }
      ]
    },
    {
      "cell_type": "code",
      "source": [
        "X_test_poly"
      ],
      "metadata": {
        "colab": {
          "base_uri": "https://localhost:8080/"
        },
        "id": "eJuTMuAIYDva",
        "outputId": "a51ad941-086f-4d5d-b870-4f8a3b417684"
      },
      "execution_count": 62,
      "outputs": [
        {
          "output_type": "execute_result",
          "data": {
            "text/plain": [
              "array([[ 1.00000000e+00,  1.61506725e+00,  2.60844221e+00,\n",
              "         4.21280957e+00],\n",
              "       [ 1.00000000e+00, -1.71340604e+00,  2.93576026e+00,\n",
              "        -5.03014935e+00],\n",
              "       [ 1.00000000e+00,  1.69137108e+00,  2.86073613e+00,\n",
              "         4.83856635e+00],\n",
              "       [ 1.00000000e+00, -1.11649173e+00,  1.24655377e+00,\n",
              "        -1.39176698e+00],\n",
              "       [ 1.00000000e+00,  6.96223016e-01,  4.84726488e-01,\n",
              "         3.37477738e-01],\n",
              "       [ 1.00000000e+00, -7.25370556e-01,  5.26162444e-01,\n",
              "        -3.81662744e-01],\n",
              "       [ 1.00000000e+00,  5.50161867e-01,  3.02678080e-01,\n",
              "         1.66521938e-01],\n",
              "       [ 1.00000000e+00, -1.15388610e+00,  1.33145312e+00,\n",
              "        -1.53634525e+00],\n",
              "       [ 1.00000000e+00,  1.77168232e+00,  3.13885825e+00,\n",
              "         5.56105966e+00],\n",
              "       [ 1.00000000e+00,  2.75678083e-01,  7.59984053e-02,\n",
              "         2.09510947e-02],\n",
              "       [ 1.00000000e+00,  5.52141420e-01,  3.04860147e-01,\n",
              "         1.68325915e-01],\n",
              "       [ 1.00000000e+00,  1.11136309e+00,  1.23512793e+00,\n",
              "         1.37267560e+00],\n",
              "       [ 1.00000000e+00, -1.07676567e+00,  1.15942431e+00,\n",
              "        -1.24842829e+00],\n",
              "       [ 1.00000000e+00, -7.24297232e-01,  5.24606481e-01,\n",
              "        -3.79971022e-01],\n",
              "       [ 1.00000000e+00,  2.99729920e+00,  8.98380248e+00,\n",
              "         2.69271439e+01],\n",
              "       [ 1.00000000e+00,  1.53842178e+00,  2.36674156e+00,\n",
              "         3.64104675e+00],\n",
              "       [ 1.00000000e+00,  2.37664513e-01,  5.64844206e-02,\n",
              "         1.34243423e-02],\n",
              "       [ 1.00000000e+00,  2.67196195e+00,  7.13938065e+00,\n",
              "         1.90761534e+01],\n",
              "       [ 1.00000000e+00, -2.53947810e+00,  6.44894903e+00,\n",
              "        -1.63769649e+01],\n",
              "       [ 1.00000000e+00,  1.00510908e+00,  1.01024427e+00,\n",
              "         1.01540569e+00]])"
            ]
          },
          "metadata": {},
          "execution_count": 62
        }
      ]
    },
    {
      "cell_type": "code",
      "source": [
        "from sklearn.linear_model import LinearRegression\n",
        "regression=LinearRegression()\n",
        "regression.fit(X_train_poly,y_train)"
      ],
      "metadata": {
        "colab": {
          "base_uri": "https://localhost:8080/",
          "height": 74
        },
        "id": "T_37kJApYFgu",
        "outputId": "0723d962-609d-4780-a7c5-d24ce8afc9d0"
      },
      "execution_count": 63,
      "outputs": [
        {
          "output_type": "execute_result",
          "data": {
            "text/plain": [
              "LinearRegression()"
            ],
            "text/html": [
              "<style>#sk-container-id-12 {color: black;}#sk-container-id-12 pre{padding: 0;}#sk-container-id-12 div.sk-toggleable {background-color: white;}#sk-container-id-12 label.sk-toggleable__label {cursor: pointer;display: block;width: 100%;margin-bottom: 0;padding: 0.3em;box-sizing: border-box;text-align: center;}#sk-container-id-12 label.sk-toggleable__label-arrow:before {content: \"▸\";float: left;margin-right: 0.25em;color: #696969;}#sk-container-id-12 label.sk-toggleable__label-arrow:hover:before {color: black;}#sk-container-id-12 div.sk-estimator:hover label.sk-toggleable__label-arrow:before {color: black;}#sk-container-id-12 div.sk-toggleable__content {max-height: 0;max-width: 0;overflow: hidden;text-align: left;background-color: #f0f8ff;}#sk-container-id-12 div.sk-toggleable__content pre {margin: 0.2em;color: black;border-radius: 0.25em;background-color: #f0f8ff;}#sk-container-id-12 input.sk-toggleable__control:checked~div.sk-toggleable__content {max-height: 200px;max-width: 100%;overflow: auto;}#sk-container-id-12 input.sk-toggleable__control:checked~label.sk-toggleable__label-arrow:before {content: \"▾\";}#sk-container-id-12 div.sk-estimator input.sk-toggleable__control:checked~label.sk-toggleable__label {background-color: #d4ebff;}#sk-container-id-12 div.sk-label input.sk-toggleable__control:checked~label.sk-toggleable__label {background-color: #d4ebff;}#sk-container-id-12 input.sk-hidden--visually {border: 0;clip: rect(1px 1px 1px 1px);clip: rect(1px, 1px, 1px, 1px);height: 1px;margin: -1px;overflow: hidden;padding: 0;position: absolute;width: 1px;}#sk-container-id-12 div.sk-estimator {font-family: monospace;background-color: #f0f8ff;border: 1px dotted black;border-radius: 0.25em;box-sizing: border-box;margin-bottom: 0.5em;}#sk-container-id-12 div.sk-estimator:hover {background-color: #d4ebff;}#sk-container-id-12 div.sk-parallel-item::after {content: \"\";width: 100%;border-bottom: 1px solid gray;flex-grow: 1;}#sk-container-id-12 div.sk-label:hover label.sk-toggleable__label {background-color: #d4ebff;}#sk-container-id-12 div.sk-serial::before {content: \"\";position: absolute;border-left: 1px solid gray;box-sizing: border-box;top: 0;bottom: 0;left: 50%;z-index: 0;}#sk-container-id-12 div.sk-serial {display: flex;flex-direction: column;align-items: center;background-color: white;padding-right: 0.2em;padding-left: 0.2em;position: relative;}#sk-container-id-12 div.sk-item {position: relative;z-index: 1;}#sk-container-id-12 div.sk-parallel {display: flex;align-items: stretch;justify-content: center;background-color: white;position: relative;}#sk-container-id-12 div.sk-item::before, #sk-container-id-12 div.sk-parallel-item::before {content: \"\";position: absolute;border-left: 1px solid gray;box-sizing: border-box;top: 0;bottom: 0;left: 50%;z-index: -1;}#sk-container-id-12 div.sk-parallel-item {display: flex;flex-direction: column;z-index: 1;position: relative;background-color: white;}#sk-container-id-12 div.sk-parallel-item:first-child::after {align-self: flex-end;width: 50%;}#sk-container-id-12 div.sk-parallel-item:last-child::after {align-self: flex-start;width: 50%;}#sk-container-id-12 div.sk-parallel-item:only-child::after {width: 0;}#sk-container-id-12 div.sk-dashed-wrapped {border: 1px dashed gray;margin: 0 0.4em 0.5em 0.4em;box-sizing: border-box;padding-bottom: 0.4em;background-color: white;}#sk-container-id-12 div.sk-label label {font-family: monospace;font-weight: bold;display: inline-block;line-height: 1.2em;}#sk-container-id-12 div.sk-label-container {text-align: center;}#sk-container-id-12 div.sk-container {/* jupyter's `normalize.less` sets `[hidden] { display: none; }` but bootstrap.min.css set `[hidden] { display: none !important; }` so we also need the `!important` here to be able to override the default hidden behavior on the sphinx rendered scikit-learn.org. See: https://github.com/scikit-learn/scikit-learn/issues/21755 */display: inline-block !important;position: relative;}#sk-container-id-12 div.sk-text-repr-fallback {display: none;}</style><div id=\"sk-container-id-12\" class=\"sk-top-container\"><div class=\"sk-text-repr-fallback\"><pre>LinearRegression()</pre><b>In a Jupyter environment, please rerun this cell to show the HTML representation or trust the notebook. <br />On GitHub, the HTML representation is unable to render, please try loading this page with nbviewer.org.</b></div><div class=\"sk-container\" hidden><div class=\"sk-item\"><div class=\"sk-estimator sk-toggleable\"><input class=\"sk-toggleable__control sk-hidden--visually\" id=\"sk-estimator-id-12\" type=\"checkbox\" checked><label for=\"sk-estimator-id-12\" class=\"sk-toggleable__label sk-toggleable__label-arrow\">LinearRegression</label><div class=\"sk-toggleable__content\"><pre>LinearRegression()</pre></div></div></div></div></div>"
            ]
          },
          "metadata": {},
          "execution_count": 63
        }
      ]
    },
    {
      "cell_type": "code",
      "source": [
        "from sklearn.metrics import r2_score\n",
        "sscore=r2_score(y_test,regression.predict(X_test_poly))\n",
        "print(sscore)"
      ],
      "metadata": {
        "colab": {
          "base_uri": "https://localhost:8080/"
        },
        "id": "NxyXbk6VYQU0",
        "outputId": "5de3bccc-0c3f-4823-c4ee-62dad831a228"
      },
      "execution_count": 64,
      "outputs": [
        {
          "output_type": "stream",
          "name": "stdout",
          "text": [
            "0.7953734222739508\n"
          ]
        }
      ]
    },
    {
      "cell_type": "code",
      "source": [
        "plt.scatter(X_train,y_train,color=\"r\")\n",
        "plt.scatter(X_train,regression.predict(X_train_poly),color=\"g\")\n",
        "plt.xlabel(\"X values\")\n",
        "plt.ylabel(\"y values\")\n",
        "plt.show()"
      ],
      "metadata": {
        "colab": {
          "base_uri": "https://localhost:8080/",
          "height": 449
        },
        "id": "TibyzRzDZYum",
        "outputId": "e9fc725c-c468-46e9-8b91-2e0c73100422"
      },
      "execution_count": 65,
      "outputs": [
        {
          "output_type": "display_data",
          "data": {
            "text/plain": [
              "<Figure size 640x480 with 1 Axes>"
            ],
            "image/png": "[encoded data removed]"
          },
          "metadata": {}
        }
      ]
    },
    {
      "cell_type": "code",
      "source": [
        "X_new=np.linspace(-3,3,100).reshape(100,1)\n",
        "X_new_poly=poly.transform(X_new)"
      ],
      "metadata": {
        "id": "oy7sqZApZd6N"
      },
      "execution_count": 66,
      "outputs": []
    },
    {
      "cell_type": "code",
      "source": [
        "X_new_poly"
      ],
      "metadata": {
        "colab": {
          "base_uri": "https://localhost:8080/"
        },
        "id": "l3s09XQ-aMsN",
        "outputId": "97c95a13-4155-4725-d942-4a41a43ee44e"
      },
      "execution_count": 67,
      "outputs": [
        {
          "output_type": "execute_result",
          "data": {
            "text/plain": [
              "array([[ 1.00000000e+00, -3.00000000e+00,  9.00000000e+00,\n",
              "        -2.70000000e+01],\n",
              "       [ 1.00000000e+00, -2.93939394e+00,  8.64003673e+00,\n",
              "        -2.53964716e+01],\n",
              "       [ 1.00000000e+00, -2.87878788e+00,  8.28741965e+00,\n",
              "        -2.38577232e+01],\n",
              "       [ 1.00000000e+00, -2.81818182e+00,  7.94214876e+00,\n",
              "        -2.23824192e+01],\n",
              "       [ 1.00000000e+00, -2.75757576e+00,  7.60422406e+00,\n",
              "        -2.09692239e+01],\n",
              "       [ 1.00000000e+00, -2.69696970e+00,  7.27364555e+00,\n",
              "        -1.96168016e+01],\n",
              "       [ 1.00000000e+00, -2.63636364e+00,  6.95041322e+00,\n",
              "        -1.83238167e+01],\n",
              "       [ 1.00000000e+00, -2.57575758e+00,  6.63452709e+00,\n",
              "        -1.70889334e+01],\n",
              "       [ 1.00000000e+00, -2.51515152e+00,  6.32598714e+00,\n",
              "        -1.59108162e+01],\n",
              "       [ 1.00000000e+00, -2.45454545e+00,  6.02479339e+00,\n",
              "        -1.47881292e+01],\n",
              "       [ 1.00000000e+00, -2.39393939e+00,  5.73094582e+00,\n",
              "        -1.37195370e+01],\n",
              "       [ 1.00000000e+00, -2.33333333e+00,  5.44444444e+00,\n",
              "        -1.27037037e+01],\n",
              "       [ 1.00000000e+00, -2.27272727e+00,  5.16528926e+00,\n",
              "        -1.17392938e+01],\n",
              "       [ 1.00000000e+00, -2.21212121e+00,  4.89348026e+00,\n",
              "        -1.08249715e+01],\n",
              "       [ 1.00000000e+00, -2.15151515e+00,  4.62901745e+00,\n",
              "        -9.95940117e+00],\n",
              "       [ 1.00000000e+00, -2.09090909e+00,  4.37190083e+00,\n",
              "        -9.14124718e+00],\n",
              "       [ 1.00000000e+00, -2.03030303e+00,  4.12213039e+00,\n",
              "        -8.36917383e+00],\n",
              "       [ 1.00000000e+00, -1.96969697e+00,  3.87970615e+00,\n",
              "        -7.64184545e+00],\n",
              "       [ 1.00000000e+00, -1.90909091e+00,  3.64462810e+00,\n",
              "        -6.95792637e+00],\n",
              "       [ 1.00000000e+00, -1.84848485e+00,  3.41689624e+00,\n",
              "        -6.31608092e+00],\n",
              "       [ 1.00000000e+00, -1.78787879e+00,  3.19651056e+00,\n",
              "        -5.71497343e+00],\n",
              "       [ 1.00000000e+00, -1.72727273e+00,  2.98347107e+00,\n",
              "        -5.15326822e+00],\n",
              "       [ 1.00000000e+00, -1.66666667e+00,  2.77777778e+00,\n",
              "        -4.62962963e+00],\n",
              "       [ 1.00000000e+00, -1.60606061e+00,  2.57943067e+00,\n",
              "        -4.14272199e+00],\n",
              "       [ 1.00000000e+00, -1.54545455e+00,  2.38842975e+00,\n",
              "        -3.69120962e+00],\n",
              "       [ 1.00000000e+00, -1.48484848e+00,  2.20477502e+00,\n",
              "        -3.27375685e+00],\n",
              "       [ 1.00000000e+00, -1.42424242e+00,  2.02846648e+00,\n",
              "        -2.88902802e+00],\n",
              "       [ 1.00000000e+00, -1.36363636e+00,  1.85950413e+00,\n",
              "        -2.53568745e+00],\n",
              "       [ 1.00000000e+00, -1.30303030e+00,  1.69788797e+00,\n",
              "        -2.21239948e+00],\n",
              "       [ 1.00000000e+00, -1.24242424e+00,  1.54361800e+00,\n",
              "        -1.91782842e+00],\n",
              "       [ 1.00000000e+00, -1.18181818e+00,  1.39669421e+00,\n",
              "        -1.65063862e+00],\n",
              "       [ 1.00000000e+00, -1.12121212e+00,  1.25711662e+00,\n",
              "        -1.40949439e+00],\n",
              "       [ 1.00000000e+00, -1.06060606e+00,  1.12488522e+00,\n",
              "        -1.19306008e+00],\n",
              "       [ 1.00000000e+00, -1.00000000e+00,  1.00000000e+00,\n",
              "        -1.00000000e+00],\n",
              "       [ 1.00000000e+00, -9.39393939e-01,  8.82460973e-01,\n",
              "        -8.28978490e-01],\n",
              "       [ 1.00000000e+00, -8.78787879e-01,  7.72268136e-01,\n",
              "        -6.78659877e-01],\n",
              "       [ 1.00000000e+00, -8.18181818e-01,  6.69421488e-01,\n",
              "        -5.47708490e-01],\n",
              "       [ 1.00000000e+00, -7.57575758e-01,  5.73921028e-01,\n",
              "        -4.34788658e-01],\n",
              "       [ 1.00000000e+00, -6.96969697e-01,  4.85766758e-01,\n",
              "        -3.38564710e-01],\n",
              "       [ 1.00000000e+00, -6.36363636e-01,  4.04958678e-01,\n",
              "        -2.57700977e-01],\n",
              "       [ 1.00000000e+00, -5.75757576e-01,  3.31496786e-01,\n",
              "        -1.90861786e-01],\n",
              "       [ 1.00000000e+00, -5.15151515e-01,  2.65381084e-01,\n",
              "        -1.36711467e-01],\n",
              "       [ 1.00000000e+00, -4.54545455e-01,  2.06611570e-01,\n",
              "        -9.39143501e-02],\n",
              "       [ 1.00000000e+00, -3.93939394e-01,  1.55188246e-01,\n",
              "        -6.11347636e-02],\n",
              "       [ 1.00000000e+00, -3.33333333e-01,  1.11111111e-01,\n",
              "        -3.70370370e-02],\n",
              "       [ 1.00000000e+00, -2.72727273e-01,  7.43801653e-02,\n",
              "        -2.02854996e-02],\n",
              "       [ 1.00000000e+00, -2.12121212e-01,  4.49954086e-02,\n",
              "        -9.54448062e-03],\n",
              "       [ 1.00000000e+00, -1.51515152e-01,  2.29568411e-02,\n",
              "        -3.47830926e-03],\n",
              "       [ 1.00000000e+00, -9.09090909e-02,  8.26446281e-03,\n",
              "        -7.51314801e-04],\n",
              "       [ 1.00000000e+00, -3.03030303e-02,  9.18273646e-04,\n",
              "        -2.78264741e-05],\n",
              "       [ 1.00000000e+00,  3.03030303e-02,  9.18273646e-04,\n",
              "         2.78264741e-05],\n",
              "       [ 1.00000000e+00,  9.09090909e-02,  8.26446281e-03,\n",
              "         7.51314801e-04],\n",
              "       [ 1.00000000e+00,  1.51515152e-01,  2.29568411e-02,\n",
              "         3.47830926e-03],\n",
              "       [ 1.00000000e+00,  2.12121212e-01,  4.49954086e-02,\n",
              "         9.54448062e-03],\n",
              "       [ 1.00000000e+00,  2.72727273e-01,  7.43801653e-02,\n",
              "         2.02854996e-02],\n",
              "       [ 1.00000000e+00,  3.33333333e-01,  1.11111111e-01,\n",
              "         3.70370370e-02],\n",
              "       [ 1.00000000e+00,  3.93939394e-01,  1.55188246e-01,\n",
              "         6.11347636e-02],\n",
              "       [ 1.00000000e+00,  4.54545455e-01,  2.06611570e-01,\n",
              "         9.39143501e-02],\n",
              "       [ 1.00000000e+00,  5.15151515e-01,  2.65381084e-01,\n",
              "         1.36711467e-01],\n",
              "       [ 1.00000000e+00,  5.75757576e-01,  3.31496786e-01,\n",
              "         1.90861786e-01],\n",
              "       [ 1.00000000e+00,  6.36363636e-01,  4.04958678e-01,\n",
              "         2.57700977e-01],\n",
              "       [ 1.00000000e+00,  6.96969697e-01,  4.85766758e-01,\n",
              "         3.38564710e-01],\n",
              "       [ 1.00000000e+00,  7.57575758e-01,  5.73921028e-01,\n",
              "         4.34788658e-01],\n",
              "       [ 1.00000000e+00,  8.18181818e-01,  6.69421488e-01,\n",
              "         5.47708490e-01],\n",
              "       [ 1.00000000e+00,  8.78787879e-01,  7.72268136e-01,\n",
              "         6.78659877e-01],\n",
              "       [ 1.00000000e+00,  9.39393939e-01,  8.82460973e-01,\n",
              "         8.28978490e-01],\n",
              "       [ 1.00000000e+00,  1.00000000e+00,  1.00000000e+00,\n",
              "         1.00000000e+00],\n",
              "       [ 1.00000000e+00,  1.06060606e+00,  1.12488522e+00,\n",
              "         1.19306008e+00],\n",
              "       [ 1.00000000e+00,  1.12121212e+00,  1.25711662e+00,\n",
              "         1.40949439e+00],\n",
              "       [ 1.00000000e+00,  1.18181818e+00,  1.39669421e+00,\n",
              "         1.65063862e+00],\n",
              "       [ 1.00000000e+00,  1.24242424e+00,  1.54361800e+00,\n",
              "         1.91782842e+00],\n",
              "       [ 1.00000000e+00,  1.30303030e+00,  1.69788797e+00,\n",
              "         2.21239948e+00],\n",
              "       [ 1.00000000e+00,  1.36363636e+00,  1.85950413e+00,\n",
              "         2.53568745e+00],\n",
              "       [ 1.00000000e+00,  1.42424242e+00,  2.02846648e+00,\n",
              "         2.88902802e+00],\n",
              "       [ 1.00000000e+00,  1.48484848e+00,  2.20477502e+00,\n",
              "         3.27375685e+00],\n",
              "       [ 1.00000000e+00,  1.54545455e+00,  2.38842975e+00,\n",
              "         3.69120962e+00],\n",
              "       [ 1.00000000e+00,  1.60606061e+00,  2.57943067e+00,\n",
              "         4.14272199e+00],\n",
              "       [ 1.00000000e+00,  1.66666667e+00,  2.77777778e+00,\n",
              "         4.62962963e+00],\n",
              "       [ 1.00000000e+00,  1.72727273e+00,  2.98347107e+00,\n",
              "         5.15326822e+00],\n",
              "       [ 1.00000000e+00,  1.78787879e+00,  3.19651056e+00,\n",
              "         5.71497343e+00],\n",
              "       [ 1.00000000e+00,  1.84848485e+00,  3.41689624e+00,\n",
              "         6.31608092e+00],\n",
              "       [ 1.00000000e+00,  1.90909091e+00,  3.64462810e+00,\n",
              "         6.95792637e+00],\n",
              "       [ 1.00000000e+00,  1.96969697e+00,  3.87970615e+00,\n",
              "         7.64184545e+00],\n",
              "       [ 1.00000000e+00,  2.03030303e+00,  4.12213039e+00,\n",
              "         8.36917383e+00],\n",
              "       [ 1.00000000e+00,  2.09090909e+00,  4.37190083e+00,\n",
              "         9.14124718e+00],\n",
              "       [ 1.00000000e+00,  2.15151515e+00,  4.62901745e+00,\n",
              "         9.95940117e+00],\n",
              "       [ 1.00000000e+00,  2.21212121e+00,  4.89348026e+00,\n",
              "         1.08249715e+01],\n",
              "       [ 1.00000000e+00,  2.27272727e+00,  5.16528926e+00,\n",
              "         1.17392938e+01],\n",
              "       [ 1.00000000e+00,  2.33333333e+00,  5.44444444e+00,\n",
              "         1.27037037e+01],\n",
              "       [ 1.00000000e+00,  2.39393939e+00,  5.73094582e+00,\n",
              "         1.37195370e+01],\n",
              "       [ 1.00000000e+00,  2.45454545e+00,  6.02479339e+00,\n",
              "         1.47881292e+01],\n",
              "       [ 1.00000000e+00,  2.51515152e+00,  6.32598714e+00,\n",
              "         1.59108162e+01],\n",
              "       [ 1.00000000e+00,  2.57575758e+00,  6.63452709e+00,\n",
              "         1.70889334e+01],\n",
              "       [ 1.00000000e+00,  2.63636364e+00,  6.95041322e+00,\n",
              "         1.83238167e+01],\n",
              "       [ 1.00000000e+00,  2.69696970e+00,  7.27364555e+00,\n",
              "         1.96168016e+01],\n",
              "       [ 1.00000000e+00,  2.75757576e+00,  7.60422406e+00,\n",
              "         2.09692239e+01],\n",
              "       [ 1.00000000e+00,  2.81818182e+00,  7.94214876e+00,\n",
              "         2.23824192e+01],\n",
              "       [ 1.00000000e+00,  2.87878788e+00,  8.28741965e+00,\n",
              "         2.38577232e+01],\n",
              "       [ 1.00000000e+00,  2.93939394e+00,  8.64003673e+00,\n",
              "         2.53964716e+01],\n",
              "       [ 1.00000000e+00,  3.00000000e+00,  9.00000000e+00,\n",
              "         2.70000000e+01]])"
            ]
          },
          "metadata": {},
          "execution_count": 67
        }
      ]
    },
    {
      "cell_type": "code",
      "source": [
        "y_new=regression.predict(X_new_poly)\n",
        "plt.plot(X_new,y_new,color=\"r\",label=\"New Predictions\")\n",
        "plt.scatter(X_train,y_train,color=\"b\",label=\"Training points\")\n",
        "plt.scatter(X_test,y_test,color=\"g\",label=\"Testing points\")\n",
        "plt.xlabel(\"X values\")\n",
        "plt.ylabel(\"y values\")\n",
        "plt.legend()\n",
        "plt.show()\n",
        "#"
      ],
      "metadata": {
        "colab": {
          "base_uri": "https://localhost:8080/",
          "height": 449
        },
        "id": "bojbuIbybaUR",
        "outputId": "ae805923-0d09-4898-fdc3-39bedb29388a"
      },
      "execution_count": 70,
      "outputs": [
        {
          "output_type": "display_data",
          "data": {
            "text/plain": [
              "<Figure size 640x480 with 1 Axes>"
            ],
            "image/png": "[encoded data removed]"
          },
          "metadata": {}
        }
      ]
    }
  ]
}