{
  "cells": [
    {
      "cell_type": "code",
      "execution_count": 1,
      "metadata": {
        "id": "9ND6t2mf94z7"
      },
      "outputs": [],
      "source": [
        "import numpy as np\n",
        "import pandas as pd\n",
        "import matplotlib.pyplot as plt\n",
        "import seaborn as sns"
      ]
    },
    {
      "cell_type": "code",
      "execution_count": 3,
      "metadata": {
        "id": "85VRe6v7-Hil"
      },
      "outputs": [],
      "source": [
        "from sklearn.datasets import make_regression\n",
        "X,y=make_regression(n_samples=200,n_features=2,noise=10,random_state=42)"
      ]
    },
    {
      "cell_type": "code",
      "execution_count": 4,
      "metadata": {
        "id": "QXKm5li--WKD"
      },
      "outputs": [],
      "source": [
        "from sklearn.model_selection import train_test_split\n",
        "X_train,X_test,y_train,y_test=train_test_split(X,y,test_size=0.25,random_state=42)"
      ]
    },
    {
      "cell_type": "code",
      "execution_count": 10,
      "metadata": {
        "id": "S7w1C7xF-mxZ"
      },
      "outputs": [],
      "source": [
        "from sklearn.neighbors import KNeighborsRegressor\n",
        "knn=KNeighborsRegressor()\n",
        "from sklearn.model_selection import GridSearchCV\n",
        "k=[1,2,3,4,5,6,7,8,9]\n",
        "param_grid=dict(n_neighbors=k)\n",
        "grid=GridSearchCV(estimator=knn,param_grid=param_grid)\n"
      ]
    },
    {
      "cell_type": "code",
      "execution_count": 12,
      "metadata": {
        "colab": {
          "base_uri": "https://localhost:8080/"
        },
        "id": "mK0CVPNt_5g2",
        "outputId": "08cef1af-cf9d-479c-df33-afddbff8d316"
      },
      "outputs": [
        {
          "name": "stdout",
          "output_type": "stream",
          "text": [
            "0.8991778329264981\n",
            "{'n_neighbors': 4}\n"
          ]
        }
      ],
      "source": [
        "grid.fit(X_train,y_train)\n",
        "print(grid.best_score_)\n",
        "print(grid.best_params_)\n"
      ]
    },
    {
      "cell_type": "code",
      "execution_count": 16,
      "metadata": {
        "colab": {
          "base_uri": "https://localhost:8080/"
        },
        "id": "FmUuKQMcADoE",
        "outputId": "f37ccea4-6bc9-4987-d485-34ea032bcb14"
      },
      "outputs": [
        {
          "name": "stdout",
          "output_type": "stream",
          "text": [
            "Mean squared Error 297.5563844514312\n",
            "Root Mean squared Error 17.249822736811854\n",
            "Median absolute Error 10.071856084595662\n",
            "R2 Score 0.897105867526219\n"
          ]
        }
      ],
      "source": [
        "y_pred=grid.predict(X_test)\n",
        "from sklearn.metrics import r2_score,mean_squared_error,median_absolute_error\n",
        "print(\"Mean squared Error\",mean_squared_error(y_test,y_pred))\n",
        "print(\"Root Mean squared Error\",np.sqrt(mean_squared_error(y_test,y_pred)))\n",
        "print(\"Median absolute Error\",median_absolute_error(y_test,y_pred))\n",
        "print(\"R2 Score\",r2_score(y_test,y_pred))\n",
        "\n"
      ]
    }
  ],
  "metadata": {
    "colab": {
      "provenance": []
    },
    "kernelspec": {
      "display_name": "Python 3",
      "name": "python3"
    },
    "language_info": {
      "name": "python"
    }
  },
  "nbformat": 4,
  "nbformat_minor": 0
}
